{
 "cells": [
  {
   "cell_type": "markdown",
   "metadata": {},
   "source": [
    "## <b><i>Apple Stock Price Prediction with LSTM Model</i></b>\n",
    "\n",
    "In this Jupyter Notebook, we will explore and analyze a dataset containing 10 years of historical stock price data for Apple Inc. The dataset, obtained from Kaggle, spans from 2010 to 2020, providing us with a rich source of information to analyze and predict Apple's stock prices.\n",
    "\n",
    "### <i>About the Dataset</i>\n",
    "\n",
    "The dataset contains various attributes related to Apple's stock, including the date, opening price, closing price, high and low prices, volume, and more. We will leverage this historical data to gain insights into Apple's stock market performance and build a predictive model to forecast its future closing prices.\n",
    "\n",
    "### <i>Objectives</i>\n",
    "\n",
    "Our primary objectives for this project are as follows:\n",
    "\n",
    "1. **Data Exploration:** We will start by exploring the dataset to understand its structure and characteristics. This step will involve data visualization, summary statistics, and time series analysis.\n",
    "\n",
    "2. **Feature Engineering:** We will engineer relevant features and perform data preprocessing to prepare the data for modeling.\n",
    "\n",
    "3. **LSTM Model for Stock Price Prediction:** We will employ Long Short-Term Memory (LSTM), a type of recurrent neural network (RNN), to create a powerful model for predicting Apple's stock closing prices. LSTMs are well-suited for capturing sequential and temporal patterns in time series data, making them an ideal choice for stock price prediction.\n",
    "\n",
    "4. **Model Evaluation:** We will evaluate the performance of the LSTM model and assess its ability to predict future closing prices accurately.\n",
    "\n",
    "5. **Visualization:** To aid our analysis, we will create informative visualizations, such as line charts, bar plots, and more, to showcase the stock price trends and LSTM model predictions.\n",
    "\n",
    "### <i>Tools and Libraries</i>\n",
    "\n",
    "We will be using the following tools and libraries throughout this notebook:\n",
    "\n",
    "- Python\n",
    "- Jupyter Notebook\n",
    "- Pandas\n",
    "- NumPy\n",
    "- Matplotlib\n",
    "- Plotly\n",
    "- Scikit-Learn\n",
    "- TensorFlow (for LSTM model implementation)\n",
    "\n"
   ]
  },
  {
   "cell_type": "markdown",
   "metadata": {},
   "source": [
    "### <i>Import Libraries</i>  "
   ]
  },
  {
   "cell_type": "code",
   "execution_count": 106,
   "metadata": {},
   "outputs": [],
   "source": [
    "import pandas as pd\n",
    "import datetime as dt\n",
    "import numpy as np\n",
    "import math\n",
    "\n",
    "from itertools import cycle\n",
    "import matplotlib.pyplot as plt\n",
    "import plotly.express as px\n",
    "\n",
    "from sklearn.preprocessing import MinMaxScaler\n",
    "from sklearn.metrics import explained_variance_score\n",
    "from sklearn.metrics import mean_gamma_deviance, mean_poisson_deviance\n",
    "from sklearn.metrics import mean_absolute_error, mean_squared_error\n",
    "\n",
    "import tensorflow as tf\n",
    "from tensorflow.keras.models import Sequential\n",
    "from tensorflow.keras.layers import Dense\n",
    "from tensorflow.keras.layers import LSTM"
   ]
  },
  {
   "cell_type": "markdown",
   "metadata": {},
   "source": [
    "### <i>Data Exploration</i>"
   ]
  },
  {
   "cell_type": "code",
   "execution_count": 107,
   "metadata": {},
   "outputs": [
    {
     "data": {
      "text/html": [
       "<div>\n",
       "<style scoped>\n",
       "    .dataframe tbody tr th:only-of-type {\n",
       "        vertical-align: middle;\n",
       "    }\n",
       "\n",
       "    .dataframe tbody tr th {\n",
       "        vertical-align: top;\n",
       "    }\n",
       "\n",
       "    .dataframe thead th {\n",
       "        text-align: right;\n",
       "    }\n",
       "</style>\n",
       "<table border=\"1\" class=\"dataframe\">\n",
       "  <thead>\n",
       "    <tr style=\"text-align: right;\">\n",
       "      <th></th>\n",
       "      <th>Date</th>\n",
       "      <th>Close/Last</th>\n",
       "      <th>Volume</th>\n",
       "      <th>Open</th>\n",
       "      <th>High</th>\n",
       "      <th>Low</th>\n",
       "    </tr>\n",
       "  </thead>\n",
       "  <tbody>\n",
       "    <tr>\n",
       "      <th>0</th>\n",
       "      <td>02/28/2020</td>\n",
       "      <td>$273.36</td>\n",
       "      <td>106721200</td>\n",
       "      <td>$257.26</td>\n",
       "      <td>$278.41</td>\n",
       "      <td>$256.37</td>\n",
       "    </tr>\n",
       "    <tr>\n",
       "      <th>1</th>\n",
       "      <td>02/27/2020</td>\n",
       "      <td>$273.52</td>\n",
       "      <td>80151380</td>\n",
       "      <td>$281.1</td>\n",
       "      <td>$286</td>\n",
       "      <td>$272.96</td>\n",
       "    </tr>\n",
       "    <tr>\n",
       "      <th>2</th>\n",
       "      <td>02/26/2020</td>\n",
       "      <td>$292.65</td>\n",
       "      <td>49678430</td>\n",
       "      <td>$286.53</td>\n",
       "      <td>$297.88</td>\n",
       "      <td>$286.5</td>\n",
       "    </tr>\n",
       "    <tr>\n",
       "      <th>3</th>\n",
       "      <td>02/25/2020</td>\n",
       "      <td>$288.08</td>\n",
       "      <td>57668360</td>\n",
       "      <td>$300.95</td>\n",
       "      <td>$302.53</td>\n",
       "      <td>$286.13</td>\n",
       "    </tr>\n",
       "    <tr>\n",
       "      <th>4</th>\n",
       "      <td>02/24/2020</td>\n",
       "      <td>$298.18</td>\n",
       "      <td>55548830</td>\n",
       "      <td>$297.26</td>\n",
       "      <td>$304.18</td>\n",
       "      <td>$289.23</td>\n",
       "    </tr>\n",
       "  </tbody>\n",
       "</table>\n",
       "</div>"
      ],
      "text/plain": [
       "         Date  Close/Last     Volume      Open      High       Low\n",
       "0  02/28/2020     $273.36  106721200   $257.26   $278.41   $256.37\n",
       "1  02/27/2020     $273.52   80151380    $281.1      $286   $272.96\n",
       "2  02/26/2020     $292.65   49678430   $286.53   $297.88    $286.5\n",
       "3  02/25/2020     $288.08   57668360   $300.95   $302.53   $286.13\n",
       "4  02/24/2020     $298.18   55548830   $297.26   $304.18   $289.23"
      ]
     },
     "execution_count": 107,
     "metadata": {},
     "output_type": "execute_result"
    }
   ],
   "source": [
    "# import data using pandas\n",
    "\n",
    "df = pd.read_csv(\"stock_data.csv\")\n",
    "\n",
    "df.head()"
   ]
  },
  {
   "cell_type": "code",
   "execution_count": 108,
   "metadata": {},
   "outputs": [
    {
     "data": {
      "text/plain": [
       "(2518, 6)"
      ]
     },
     "execution_count": 108,
     "metadata": {},
     "output_type": "execute_result"
    }
   ],
   "source": [
    "df.shape"
   ]
  },
  {
   "cell_type": "code",
   "execution_count": 109,
   "metadata": {},
   "outputs": [
    {
     "name": "stdout",
     "output_type": "stream",
     "text": [
      "<class 'pandas.core.frame.DataFrame'>\n",
      "RangeIndex: 2518 entries, 0 to 2517\n",
      "Data columns (total 6 columns):\n",
      " #   Column       Non-Null Count  Dtype \n",
      "---  ------       --------------  ----- \n",
      " 0   Date         2518 non-null   object\n",
      " 1    Close/Last  2518 non-null   object\n",
      " 2    Volume      2518 non-null   int64 \n",
      " 3    Open        2518 non-null   object\n",
      " 4    High        2518 non-null   object\n",
      " 5    Low         2518 non-null   object\n",
      "dtypes: int64(1), object(5)\n",
      "memory usage: 118.2+ KB\n"
     ]
    }
   ],
   "source": [
    "df.info()"
   ]
  },
  {
   "cell_type": "code",
   "execution_count": 140,
   "metadata": {},
   "outputs": [
    {
     "data": {
      "text/html": [
       "<div>\n",
       "<style scoped>\n",
       "    .dataframe tbody tr th:only-of-type {\n",
       "        vertical-align: middle;\n",
       "    }\n",
       "\n",
       "    .dataframe tbody tr th {\n",
       "        vertical-align: top;\n",
       "    }\n",
       "\n",
       "    .dataframe thead th {\n",
       "        text-align: right;\n",
       "    }\n",
       "</style>\n",
       "<table border=\"1\" class=\"dataframe\">\n",
       "  <thead>\n",
       "    <tr style=\"text-align: right;\">\n",
       "      <th></th>\n",
       "      <th>Close</th>\n",
       "      <th>Volume</th>\n",
       "      <th>Open</th>\n",
       "      <th>High</th>\n",
       "      <th>Low</th>\n",
       "    </tr>\n",
       "  </thead>\n",
       "  <tbody>\n",
       "    <tr>\n",
       "      <th>count</th>\n",
       "      <td>2518.000000</td>\n",
       "      <td>2.518000e+03</td>\n",
       "      <td>2518.000000</td>\n",
       "      <td>2518.000000</td>\n",
       "      <td>2518.000000</td>\n",
       "    </tr>\n",
       "    <tr>\n",
       "      <th>mean</th>\n",
       "      <td>114.769522</td>\n",
       "      <td>7.258009e+07</td>\n",
       "      <td>114.728443</td>\n",
       "      <td>115.766415</td>\n",
       "      <td>113.690582</td>\n",
       "    </tr>\n",
       "    <tr>\n",
       "      <th>std</th>\n",
       "      <td>60.662405</td>\n",
       "      <td>5.663113e+07</td>\n",
       "      <td>60.546893</td>\n",
       "      <td>61.134456</td>\n",
       "      <td>60.085105</td>\n",
       "    </tr>\n",
       "    <tr>\n",
       "      <th>min</th>\n",
       "      <td>29.835700</td>\n",
       "      <td>1.136205e+07</td>\n",
       "      <td>29.392800</td>\n",
       "      <td>29.928600</td>\n",
       "      <td>28.464300</td>\n",
       "    </tr>\n",
       "    <tr>\n",
       "      <th>25%</th>\n",
       "      <td>66.822475</td>\n",
       "      <td>3.053026e+07</td>\n",
       "      <td>66.877150</td>\n",
       "      <td>67.475300</td>\n",
       "      <td>66.372950</td>\n",
       "    </tr>\n",
       "    <tr>\n",
       "      <th>50%</th>\n",
       "      <td>101.090000</td>\n",
       "      <td>5.295469e+07</td>\n",
       "      <td>101.115000</td>\n",
       "      <td>102.085000</td>\n",
       "      <td>100.350000</td>\n",
       "    </tr>\n",
       "    <tr>\n",
       "      <th>75%</th>\n",
       "      <td>154.630000</td>\n",
       "      <td>9.861006e+07</td>\n",
       "      <td>154.610000</td>\n",
       "      <td>155.735000</td>\n",
       "      <td>153.325000</td>\n",
       "    </tr>\n",
       "    <tr>\n",
       "      <th>max</th>\n",
       "      <td>327.200000</td>\n",
       "      <td>4.624423e+08</td>\n",
       "      <td>324.740000</td>\n",
       "      <td>327.850000</td>\n",
       "      <td>323.350000</td>\n",
       "    </tr>\n",
       "  </tbody>\n",
       "</table>\n",
       "</div>"
      ],
      "text/plain": [
       "             Close        Volume         Open         High          Low\n",
       "count  2518.000000  2.518000e+03  2518.000000  2518.000000  2518.000000\n",
       "mean    114.769522  7.258009e+07   114.728443   115.766415   113.690582\n",
       "std      60.662405  5.663113e+07    60.546893    61.134456    60.085105\n",
       "min      29.835700  1.136205e+07    29.392800    29.928600    28.464300\n",
       "25%      66.822475  3.053026e+07    66.877150    67.475300    66.372950\n",
       "50%     101.090000  5.295469e+07   101.115000   102.085000   100.350000\n",
       "75%     154.630000  9.861006e+07   154.610000   155.735000   153.325000\n",
       "max     327.200000  4.624423e+08   324.740000   327.850000   323.350000"
      ]
     },
     "execution_count": 140,
     "metadata": {},
     "output_type": "execute_result"
    }
   ],
   "source": [
    "df.describe()"
   ]
  },
  {
   "cell_type": "code",
   "execution_count": 111,
   "metadata": {},
   "outputs": [
    {
     "data": {
      "text/plain": [
       "Date           object\n",
       " Close/Last    object\n",
       " Volume         int64\n",
       " Open          object\n",
       " High          object\n",
       " Low           object\n",
       "dtype: object"
      ]
     },
     "execution_count": 111,
     "metadata": {},
     "output_type": "execute_result"
    }
   ],
   "source": [
    "df.dtypes"
   ]
  },
  {
   "cell_type": "code",
   "execution_count": 112,
   "metadata": {},
   "outputs": [
    {
     "data": {
      "text/plain": [
       "Index(['Date', ' Close/Last', ' Volume', ' Open', ' High', ' Low'], dtype='object')"
      ]
     },
     "execution_count": 112,
     "metadata": {},
     "output_type": "execute_result"
    }
   ],
   "source": [
    "df.columns"
   ]
  },
  {
   "cell_type": "code",
   "execution_count": 113,
   "metadata": {},
   "outputs": [],
   "source": [
    "# correcting column names\n",
    "df.rename(columns={' High':'High', ' Low':'Low', ' Close/Last': 'Close', ' Open': 'Open', ' Volume': 'Volume'}, \n",
    "          inplace=True)"
   ]
  },
  {
   "cell_type": "markdown",
   "metadata": {},
   "source": [
    "### <i>EDA</i>"
   ]
  },
  {
   "cell_type": "code",
   "execution_count": 114,
   "metadata": {},
   "outputs": [
    {
     "name": "stdout",
     "output_type": "stream",
     "text": [
      "Starting Date: 03/01/2010\n",
      "Ending date: 02/28/2020\n"
     ]
    }
   ],
   "source": [
    "# start date and end date in data\n",
    "\n",
    "sd = df.iloc[-1][0]\n",
    "ed = df.iloc[0][0]\n",
    "\n",
    "print(\"Starting Date:\", sd)\n",
    "print(\"Ending date:\", ed)"
   ]
  },
  {
   "cell_type": "code",
   "execution_count": 115,
   "metadata": {},
   "outputs": [
    {
     "data": {
      "text/html": [
       "<div>\n",
       "<style scoped>\n",
       "    .dataframe tbody tr th:only-of-type {\n",
       "        vertical-align: middle;\n",
       "    }\n",
       "\n",
       "    .dataframe tbody tr th {\n",
       "        vertical-align: top;\n",
       "    }\n",
       "\n",
       "    .dataframe thead th {\n",
       "        text-align: right;\n",
       "    }\n",
       "</style>\n",
       "<table border=\"1\" class=\"dataframe\">\n",
       "  <thead>\n",
       "    <tr style=\"text-align: right;\">\n",
       "      <th></th>\n",
       "      <th>Date</th>\n",
       "      <th>Close</th>\n",
       "      <th>Volume</th>\n",
       "      <th>Open</th>\n",
       "      <th>High</th>\n",
       "      <th>Low</th>\n",
       "    </tr>\n",
       "  </thead>\n",
       "  <tbody>\n",
       "    <tr>\n",
       "      <th>0</th>\n",
       "      <td>2020-02-28</td>\n",
       "      <td>273.36</td>\n",
       "      <td>106721200</td>\n",
       "      <td>257.26</td>\n",
       "      <td>278.41</td>\n",
       "      <td>256.37</td>\n",
       "    </tr>\n",
       "    <tr>\n",
       "      <th>1</th>\n",
       "      <td>2020-02-27</td>\n",
       "      <td>273.52</td>\n",
       "      <td>80151380</td>\n",
       "      <td>281.10</td>\n",
       "      <td>286.00</td>\n",
       "      <td>272.96</td>\n",
       "    </tr>\n",
       "    <tr>\n",
       "      <th>2</th>\n",
       "      <td>2020-02-26</td>\n",
       "      <td>292.65</td>\n",
       "      <td>49678430</td>\n",
       "      <td>286.53</td>\n",
       "      <td>297.88</td>\n",
       "      <td>286.50</td>\n",
       "    </tr>\n",
       "    <tr>\n",
       "      <th>3</th>\n",
       "      <td>2020-02-25</td>\n",
       "      <td>288.08</td>\n",
       "      <td>57668360</td>\n",
       "      <td>300.95</td>\n",
       "      <td>302.53</td>\n",
       "      <td>286.13</td>\n",
       "    </tr>\n",
       "    <tr>\n",
       "      <th>4</th>\n",
       "      <td>2020-02-24</td>\n",
       "      <td>298.18</td>\n",
       "      <td>55548830</td>\n",
       "      <td>297.26</td>\n",
       "      <td>304.18</td>\n",
       "      <td>289.23</td>\n",
       "    </tr>\n",
       "  </tbody>\n",
       "</table>\n",
       "</div>"
      ],
      "text/plain": [
       "        Date   Close     Volume    Open    High     Low\n",
       "0 2020-02-28  273.36  106721200  257.26  278.41  256.37\n",
       "1 2020-02-27  273.52   80151380  281.10  286.00  272.96\n",
       "2 2020-02-26  292.65   49678430  286.53  297.88  286.50\n",
       "3 2020-02-25  288.08   57668360  300.95  302.53  286.13\n",
       "4 2020-02-24  298.18   55548830  297.26  304.18  289.23"
      ]
     },
     "execution_count": 115,
     "metadata": {},
     "output_type": "execute_result"
    }
   ],
   "source": [
    "# Convert column values from object to numeric type\n",
    "\n",
    "df['Date'] = pd.to_datetime(df['Date'])\n",
    "df[['High', 'Low', 'Close', 'Open']] = df[['High', 'Low', 'Close', 'Open']].apply(lambda x: x.str.replace('[\\$,]', '', regex=True)).apply(pd.to_numeric, errors='coerce')\n",
    "\n",
    "df.head()"
   ]
  },
  {
   "cell_type": "code",
   "execution_count": 116,
   "metadata": {},
   "outputs": [
    {
     "data": {
      "text/plain": [
       "Date      datetime64[ns]\n",
       "Close            float64\n",
       "Volume             int64\n",
       "Open             float64\n",
       "High             float64\n",
       "Low              float64\n",
       "dtype: object"
      ]
     },
     "execution_count": 116,
     "metadata": {},
     "output_type": "execute_result"
    }
   ],
   "source": [
    "df.dtypes"
   ]
  },
  {
   "cell_type": "code",
   "execution_count": 117,
   "metadata": {},
   "outputs": [
    {
     "data": {
      "text/plain": [
       "Date      False\n",
       "Close     False\n",
       "Volume    False\n",
       "Open      False\n",
       "High      False\n",
       "Low       False\n",
       "dtype: bool"
      ]
     },
     "execution_count": 117,
     "metadata": {},
     "output_type": "execute_result"
    }
   ],
   "source": [
    "# check for NA values\n",
    "\n",
    "df.isna().any()"
   ]
  },
  {
   "cell_type": "code",
   "execution_count": 118,
   "metadata": {},
   "outputs": [
    {
     "data": {
      "text/html": [
       "<div>\n",
       "<style scoped>\n",
       "    .dataframe tbody tr th:only-of-type {\n",
       "        vertical-align: middle;\n",
       "    }\n",
       "\n",
       "    .dataframe tbody tr th {\n",
       "        vertical-align: top;\n",
       "    }\n",
       "\n",
       "    .dataframe thead th {\n",
       "        text-align: right;\n",
       "    }\n",
       "</style>\n",
       "<table border=\"1\" class=\"dataframe\">\n",
       "  <thead>\n",
       "    <tr style=\"text-align: right;\">\n",
       "      <th></th>\n",
       "      <th>Date</th>\n",
       "      <th>Close</th>\n",
       "      <th>Volume</th>\n",
       "      <th>Open</th>\n",
       "      <th>High</th>\n",
       "      <th>Low</th>\n",
       "    </tr>\n",
       "  </thead>\n",
       "  <tbody>\n",
       "    <tr>\n",
       "      <th>11</th>\n",
       "      <td>2020-02-12</td>\n",
       "      <td>327.20</td>\n",
       "      <td>28432570</td>\n",
       "      <td>321.47</td>\n",
       "      <td>327.22</td>\n",
       "      <td>321.4700</td>\n",
       "    </tr>\n",
       "    <tr>\n",
       "      <th>15</th>\n",
       "      <td>2020-02-06</td>\n",
       "      <td>325.21</td>\n",
       "      <td>26356390</td>\n",
       "      <td>322.57</td>\n",
       "      <td>325.22</td>\n",
       "      <td>320.2648</td>\n",
       "    </tr>\n",
       "    <tr>\n",
       "      <th>9</th>\n",
       "      <td>2020-02-14</td>\n",
       "      <td>324.95</td>\n",
       "      <td>20028450</td>\n",
       "      <td>324.74</td>\n",
       "      <td>325.98</td>\n",
       "      <td>322.8500</td>\n",
       "    </tr>\n",
       "    <tr>\n",
       "      <th>10</th>\n",
       "      <td>2020-02-13</td>\n",
       "      <td>324.87</td>\n",
       "      <td>23686890</td>\n",
       "      <td>324.19</td>\n",
       "      <td>326.22</td>\n",
       "      <td>323.3500</td>\n",
       "    </tr>\n",
       "    <tr>\n",
       "      <th>21</th>\n",
       "      <td>2020-01-29</td>\n",
       "      <td>324.34</td>\n",
       "      <td>54149930</td>\n",
       "      <td>324.45</td>\n",
       "      <td>327.85</td>\n",
       "      <td>321.3800</td>\n",
       "    </tr>\n",
       "  </tbody>\n",
       "</table>\n",
       "</div>"
      ],
      "text/plain": [
       "         Date   Close    Volume    Open    High       Low\n",
       "11 2020-02-12  327.20  28432570  321.47  327.22  321.4700\n",
       "15 2020-02-06  325.21  26356390  322.57  325.22  320.2648\n",
       "9  2020-02-14  324.95  20028450  324.74  325.98  322.8500\n",
       "10 2020-02-13  324.87  23686890  324.19  326.22  323.3500\n",
       "21 2020-01-29  324.34  54149930  324.45  327.85  321.3800"
      ]
     },
     "execution_count": 118,
     "metadata": {},
     "output_type": "execute_result"
    }
   ],
   "source": [
    "#top 5 close price\n",
    "\n",
    "df.sort_values('Close', ascending=False).head()"
   ]
  },
  {
   "cell_type": "code",
   "execution_count": 119,
   "metadata": {},
   "outputs": [
    {
     "data": {
      "application/vnd.plotly.v1+json": {
       "config": {
        "plotlyServerURL": "https://plot.ly"
       },
       "data": [
        {
         "alignmentgroup": "True",
         "hovertemplate": "variable=Open<br>Year=%{x}<br>Mean Price=%{y}<extra></extra>",
         "legendgroup": "Open",
         "marker": {
          "color": "#636efa",
          "pattern": {
           "shape": ""
          }
         },
         "name": "Open",
         "offsetgroup": "Open",
         "orientation": "v",
         "showlegend": true,
         "textposition": "auto",
         "type": "bar",
         "x": [
          "2010",
          "2011",
          "2012",
          "2013",
          "2014",
          "2015",
          "2016",
          "2017",
          "2018",
          "2019",
          "2020"
         ],
         "xaxis": "x",
         "y": [
          38.56276542056075,
          52.00876071428572,
          82.37891640000001,
          67.58969642857143,
          92.21975515873017,
          120.16952380952381,
          104.5076984126984,
          150.4508486055777,
          189.1055342629482,
          207.86907936507936,
          310.763725
         ],
         "yaxis": "y"
        },
        {
         "alignmentgroup": "True",
         "hovertemplate": "variable=Close<br>Year=%{x}<br>Mean Price=%{y}<extra></extra>",
         "legendgroup": "Close",
         "marker": {
          "color": "#EF553B",
          "pattern": {
           "shape": ""
          }
         },
         "name": "Close",
         "offsetgroup": "Close",
         "orientation": "v",
         "showlegend": true,
         "textposition": "auto",
         "type": "bar",
         "x": [
          "2010",
          "2011",
          "2012",
          "2013",
          "2014",
          "2015",
          "2016",
          "2017",
          "2018",
          "2019",
          "2020"
         ],
         "xaxis": "x",
         "y": [
          38.55578037383177,
          52.0006003968254,
          82.29279519999999,
          67.51923968253968,
          92.26455,
          120.03986111111111,
          104.60400793650793,
          150.55105577689244,
          189.05342629482072,
          208.25593253968256,
          311.60949999999997
         ],
         "yaxis": "y"
        }
       ],
       "layout": {
        "barmode": "group",
        "legend": {
         "title": {
          "text": "variable"
         },
         "tracegroupgap": 0
        },
        "template": {
         "data": {
          "bar": [
           {
            "error_x": {
             "color": "#2a3f5f"
            },
            "error_y": {
             "color": "#2a3f5f"
            },
            "marker": {
             "line": {
              "color": "#E5ECF6",
              "width": 0.5
             },
             "pattern": {
              "fillmode": "overlay",
              "size": 10,
              "solidity": 0.2
             }
            },
            "type": "bar"
           }
          ],
          "barpolar": [
           {
            "marker": {
             "line": {
              "color": "#E5ECF6",
              "width": 0.5
             },
             "pattern": {
              "fillmode": "overlay",
              "size": 10,
              "solidity": 0.2
             }
            },
            "type": "barpolar"
           }
          ],
          "carpet": [
           {
            "aaxis": {
             "endlinecolor": "#2a3f5f",
             "gridcolor": "white",
             "linecolor": "white",
             "minorgridcolor": "white",
             "startlinecolor": "#2a3f5f"
            },
            "baxis": {
             "endlinecolor": "#2a3f5f",
             "gridcolor": "white",
             "linecolor": "white",
             "minorgridcolor": "white",
             "startlinecolor": "#2a3f5f"
            },
            "type": "carpet"
           }
          ],
          "choropleth": [
           {
            "colorbar": {
             "outlinewidth": 0,
             "ticks": ""
            },
            "type": "choropleth"
           }
          ],
          "contour": [
           {
            "colorbar": {
             "outlinewidth": 0,
             "ticks": ""
            },
            "colorscale": [
             [
              0,
              "#0d0887"
             ],
             [
              0.1111111111111111,
              "#46039f"
             ],
             [
              0.2222222222222222,
              "#7201a8"
             ],
             [
              0.3333333333333333,
              "#9c179e"
             ],
             [
              0.4444444444444444,
              "#bd3786"
             ],
             [
              0.5555555555555556,
              "#d8576b"
             ],
             [
              0.6666666666666666,
              "#ed7953"
             ],
             [
              0.7777777777777778,
              "#fb9f3a"
             ],
             [
              0.8888888888888888,
              "#fdca26"
             ],
             [
              1,
              "#f0f921"
             ]
            ],
            "type": "contour"
           }
          ],
          "contourcarpet": [
           {
            "colorbar": {
             "outlinewidth": 0,
             "ticks": ""
            },
            "type": "contourcarpet"
           }
          ],
          "heatmap": [
           {
            "colorbar": {
             "outlinewidth": 0,
             "ticks": ""
            },
            "colorscale": [
             [
              0,
              "#0d0887"
             ],
             [
              0.1111111111111111,
              "#46039f"
             ],
             [
              0.2222222222222222,
              "#7201a8"
             ],
             [
              0.3333333333333333,
              "#9c179e"
             ],
             [
              0.4444444444444444,
              "#bd3786"
             ],
             [
              0.5555555555555556,
              "#d8576b"
             ],
             [
              0.6666666666666666,
              "#ed7953"
             ],
             [
              0.7777777777777778,
              "#fb9f3a"
             ],
             [
              0.8888888888888888,
              "#fdca26"
             ],
             [
              1,
              "#f0f921"
             ]
            ],
            "type": "heatmap"
           }
          ],
          "heatmapgl": [
           {
            "colorbar": {
             "outlinewidth": 0,
             "ticks": ""
            },
            "colorscale": [
             [
              0,
              "#0d0887"
             ],
             [
              0.1111111111111111,
              "#46039f"
             ],
             [
              0.2222222222222222,
              "#7201a8"
             ],
             [
              0.3333333333333333,
              "#9c179e"
             ],
             [
              0.4444444444444444,
              "#bd3786"
             ],
             [
              0.5555555555555556,
              "#d8576b"
             ],
             [
              0.6666666666666666,
              "#ed7953"
             ],
             [
              0.7777777777777778,
              "#fb9f3a"
             ],
             [
              0.8888888888888888,
              "#fdca26"
             ],
             [
              1,
              "#f0f921"
             ]
            ],
            "type": "heatmapgl"
           }
          ],
          "histogram": [
           {
            "marker": {
             "pattern": {
              "fillmode": "overlay",
              "size": 10,
              "solidity": 0.2
             }
            },
            "type": "histogram"
           }
          ],
          "histogram2d": [
           {
            "colorbar": {
             "outlinewidth": 0,
             "ticks": ""
            },
            "colorscale": [
             [
              0,
              "#0d0887"
             ],
             [
              0.1111111111111111,
              "#46039f"
             ],
             [
              0.2222222222222222,
              "#7201a8"
             ],
             [
              0.3333333333333333,
              "#9c179e"
             ],
             [
              0.4444444444444444,
              "#bd3786"
             ],
             [
              0.5555555555555556,
              "#d8576b"
             ],
             [
              0.6666666666666666,
              "#ed7953"
             ],
             [
              0.7777777777777778,
              "#fb9f3a"
             ],
             [
              0.8888888888888888,
              "#fdca26"
             ],
             [
              1,
              "#f0f921"
             ]
            ],
            "type": "histogram2d"
           }
          ],
          "histogram2dcontour": [
           {
            "colorbar": {
             "outlinewidth": 0,
             "ticks": ""
            },
            "colorscale": [
             [
              0,
              "#0d0887"
             ],
             [
              0.1111111111111111,
              "#46039f"
             ],
             [
              0.2222222222222222,
              "#7201a8"
             ],
             [
              0.3333333333333333,
              "#9c179e"
             ],
             [
              0.4444444444444444,
              "#bd3786"
             ],
             [
              0.5555555555555556,
              "#d8576b"
             ],
             [
              0.6666666666666666,
              "#ed7953"
             ],
             [
              0.7777777777777778,
              "#fb9f3a"
             ],
             [
              0.8888888888888888,
              "#fdca26"
             ],
             [
              1,
              "#f0f921"
             ]
            ],
            "type": "histogram2dcontour"
           }
          ],
          "mesh3d": [
           {
            "colorbar": {
             "outlinewidth": 0,
             "ticks": ""
            },
            "type": "mesh3d"
           }
          ],
          "parcoords": [
           {
            "line": {
             "colorbar": {
              "outlinewidth": 0,
              "ticks": ""
             }
            },
            "type": "parcoords"
           }
          ],
          "pie": [
           {
            "automargin": true,
            "type": "pie"
           }
          ],
          "scatter": [
           {
            "marker": {
             "colorbar": {
              "outlinewidth": 0,
              "ticks": ""
             }
            },
            "type": "scatter"
           }
          ],
          "scatter3d": [
           {
            "line": {
             "colorbar": {
              "outlinewidth": 0,
              "ticks": ""
             }
            },
            "marker": {
             "colorbar": {
              "outlinewidth": 0,
              "ticks": ""
             }
            },
            "type": "scatter3d"
           }
          ],
          "scattercarpet": [
           {
            "marker": {
             "colorbar": {
              "outlinewidth": 0,
              "ticks": ""
             }
            },
            "type": "scattercarpet"
           }
          ],
          "scattergeo": [
           {
            "marker": {
             "colorbar": {
              "outlinewidth": 0,
              "ticks": ""
             }
            },
            "type": "scattergeo"
           }
          ],
          "scattergl": [
           {
            "marker": {
             "colorbar": {
              "outlinewidth": 0,
              "ticks": ""
             }
            },
            "type": "scattergl"
           }
          ],
          "scattermapbox": [
           {
            "marker": {
             "colorbar": {
              "outlinewidth": 0,
              "ticks": ""
             }
            },
            "type": "scattermapbox"
           }
          ],
          "scatterpolar": [
           {
            "marker": {
             "colorbar": {
              "outlinewidth": 0,
              "ticks": ""
             }
            },
            "type": "scatterpolar"
           }
          ],
          "scatterpolargl": [
           {
            "marker": {
             "colorbar": {
              "outlinewidth": 0,
              "ticks": ""
             }
            },
            "type": "scatterpolargl"
           }
          ],
          "scatterternary": [
           {
            "marker": {
             "colorbar": {
              "outlinewidth": 0,
              "ticks": ""
             }
            },
            "type": "scatterternary"
           }
          ],
          "surface": [
           {
            "colorbar": {
             "outlinewidth": 0,
             "ticks": ""
            },
            "colorscale": [
             [
              0,
              "#0d0887"
             ],
             [
              0.1111111111111111,
              "#46039f"
             ],
             [
              0.2222222222222222,
              "#7201a8"
             ],
             [
              0.3333333333333333,
              "#9c179e"
             ],
             [
              0.4444444444444444,
              "#bd3786"
             ],
             [
              0.5555555555555556,
              "#d8576b"
             ],
             [
              0.6666666666666666,
              "#ed7953"
             ],
             [
              0.7777777777777778,
              "#fb9f3a"
             ],
             [
              0.8888888888888888,
              "#fdca26"
             ],
             [
              1,
              "#f0f921"
             ]
            ],
            "type": "surface"
           }
          ],
          "table": [
           {
            "cells": {
             "fill": {
              "color": "#EBF0F8"
             },
             "line": {
              "color": "white"
             }
            },
            "header": {
             "fill": {
              "color": "#C8D4E3"
             },
             "line": {
              "color": "white"
             }
            },
            "type": "table"
           }
          ]
         },
         "layout": {
          "annotationdefaults": {
           "arrowcolor": "#2a3f5f",
           "arrowhead": 0,
           "arrowwidth": 1
          },
          "autotypenumbers": "strict",
          "coloraxis": {
           "colorbar": {
            "outlinewidth": 0,
            "ticks": ""
           }
          },
          "colorscale": {
           "diverging": [
            [
             0,
             "#8e0152"
            ],
            [
             0.1,
             "#c51b7d"
            ],
            [
             0.2,
             "#de77ae"
            ],
            [
             0.3,
             "#f1b6da"
            ],
            [
             0.4,
             "#fde0ef"
            ],
            [
             0.5,
             "#f7f7f7"
            ],
            [
             0.6,
             "#e6f5d0"
            ],
            [
             0.7,
             "#b8e186"
            ],
            [
             0.8,
             "#7fbc41"
            ],
            [
             0.9,
             "#4d9221"
            ],
            [
             1,
             "#276419"
            ]
           ],
           "sequential": [
            [
             0,
             "#0d0887"
            ],
            [
             0.1111111111111111,
             "#46039f"
            ],
            [
             0.2222222222222222,
             "#7201a8"
            ],
            [
             0.3333333333333333,
             "#9c179e"
            ],
            [
             0.4444444444444444,
             "#bd3786"
            ],
            [
             0.5555555555555556,
             "#d8576b"
            ],
            [
             0.6666666666666666,
             "#ed7953"
            ],
            [
             0.7777777777777778,
             "#fb9f3a"
            ],
            [
             0.8888888888888888,
             "#fdca26"
            ],
            [
             1,
             "#f0f921"
            ]
           ],
           "sequentialminus": [
            [
             0,
             "#0d0887"
            ],
            [
             0.1111111111111111,
             "#46039f"
            ],
            [
             0.2222222222222222,
             "#7201a8"
            ],
            [
             0.3333333333333333,
             "#9c179e"
            ],
            [
             0.4444444444444444,
             "#bd3786"
            ],
            [
             0.5555555555555556,
             "#d8576b"
            ],
            [
             0.6666666666666666,
             "#ed7953"
            ],
            [
             0.7777777777777778,
             "#fb9f3a"
            ],
            [
             0.8888888888888888,
             "#fdca26"
            ],
            [
             1,
             "#f0f921"
            ]
           ]
          },
          "colorway": [
           "#636efa",
           "#EF553B",
           "#00cc96",
           "#ab63fa",
           "#FFA15A",
           "#19d3f3",
           "#FF6692",
           "#B6E880",
           "#FF97FF",
           "#FECB52"
          ],
          "font": {
           "color": "#2a3f5f"
          },
          "geo": {
           "bgcolor": "white",
           "lakecolor": "white",
           "landcolor": "#E5ECF6",
           "showlakes": true,
           "showland": true,
           "subunitcolor": "white"
          },
          "hoverlabel": {
           "align": "left"
          },
          "hovermode": "closest",
          "mapbox": {
           "style": "light"
          },
          "paper_bgcolor": "white",
          "plot_bgcolor": "#E5ECF6",
          "polar": {
           "angularaxis": {
            "gridcolor": "white",
            "linecolor": "white",
            "ticks": ""
           },
           "bgcolor": "#E5ECF6",
           "radialaxis": {
            "gridcolor": "white",
            "linecolor": "white",
            "ticks": ""
           }
          },
          "scene": {
           "xaxis": {
            "backgroundcolor": "#E5ECF6",
            "gridcolor": "white",
            "gridwidth": 2,
            "linecolor": "white",
            "showbackground": true,
            "ticks": "",
            "zerolinecolor": "white"
           },
           "yaxis": {
            "backgroundcolor": "#E5ECF6",
            "gridcolor": "white",
            "gridwidth": 2,
            "linecolor": "white",
            "showbackground": true,
            "ticks": "",
            "zerolinecolor": "white"
           },
           "zaxis": {
            "backgroundcolor": "#E5ECF6",
            "gridcolor": "white",
            "gridwidth": 2,
            "linecolor": "white",
            "showbackground": true,
            "ticks": "",
            "zerolinecolor": "white"
           }
          },
          "shapedefaults": {
           "line": {
            "color": "#2a3f5f"
           }
          },
          "ternary": {
           "aaxis": {
            "gridcolor": "white",
            "linecolor": "white",
            "ticks": ""
           },
           "baxis": {
            "gridcolor": "white",
            "linecolor": "white",
            "ticks": ""
           },
           "bgcolor": "#E5ECF6",
           "caxis": {
            "gridcolor": "white",
            "linecolor": "white",
            "ticks": ""
           }
          },
          "title": {
           "x": 0.05
          },
          "xaxis": {
           "automargin": true,
           "gridcolor": "white",
           "linecolor": "white",
           "ticks": "",
           "title": {
            "standoff": 15
           },
           "zerolinecolor": "white",
           "zerolinewidth": 2
          },
          "yaxis": {
           "automargin": true,
           "gridcolor": "white",
           "linecolor": "white",
           "ticks": "",
           "title": {
            "standoff": 15
           },
           "zerolinecolor": "white",
           "zerolinewidth": 2
          }
         }
        },
        "title": {
         "text": "Mean Open and Close Prices by Year"
        },
        "xaxis": {
         "anchor": "y",
         "domain": [
          0,
          1
         ],
         "tickangle": -45,
         "title": {
          "text": "Year"
         }
        },
        "yaxis": {
         "anchor": "x",
         "domain": [
          0,
          1
         ],
         "title": {
          "text": "Mean Price"
         }
        }
       }
      }
     },
     "metadata": {},
     "output_type": "display_data"
    }
   ],
   "source": [
    "# plotting yearly mean of open and close \n",
    "\n",
    "yearly_mean = df.groupby(df['Date'].dt.strftime('%Y'))[['Open', 'Close', 'High', 'Low']].mean().reset_index()\n",
    "\n",
    "fig = px.bar(yearly_mean, x='Date', y=['Open', 'Close'], labels={'Date': 'Year', 'value': 'Mean Price'},\n",
    "             title='Mean Open and Close Prices by Year')\n",
    "\n",
    "fig.update_layout(barmode='group', xaxis_tickangle=-45)\n",
    "\n",
    "fig.show()"
   ]
  },
  {
   "cell_type": "code",
   "execution_count": 120,
   "metadata": {},
   "outputs": [
    {
     "data": {
      "application/vnd.plotly.v1+json": {
       "config": {
        "plotlyServerURL": "https://plot.ly"
       },
       "data": [
        {
         "alignmentgroup": "True",
         "hovertemplate": "variable=High<br>Year=%{x}<br>Mean Price=%{y}<extra></extra>",
         "legendgroup": "High",
         "marker": {
          "color": "#636efa",
          "pattern": {
           "shape": ""
          }
         },
         "name": "High",
         "offsetgroup": "High",
         "orientation": "v",
         "showlegend": true,
         "textposition": "auto",
         "type": "bar",
         "x": [
          "2010",
          "2011",
          "2012",
          "2013",
          "2014",
          "2015",
          "2016",
          "2017",
          "2018",
          "2019",
          "2020"
         ],
         "xaxis": "x",
         "y": [
          38.91517943925234,
          52.489069444444446,
          83.1178888,
          68.23410317460316,
          93.0125996031746,
          121.24145793650793,
          105.4270626984127,
          151.40600517928286,
          190.99405179282869,
          209.83161626984128,
          314.7662475
         ],
         "yaxis": "y"
        },
        {
         "alignmentgroup": "True",
         "hovertemplate": "variable=Low<br>Year=%{x}<br>Mean Price=%{y}<extra></extra>",
         "legendgroup": "Low",
         "marker": {
          "color": "#EF553B",
          "pattern": {
           "shape": ""
          }
         },
         "name": "Low",
         "offsetgroup": "Low",
         "orientation": "v",
         "showlegend": true,
         "textposition": "auto",
         "type": "bar",
         "x": [
          "2010",
          "2011",
          "2012",
          "2013",
          "2014",
          "2015",
          "2016",
          "2017",
          "2018",
          "2019",
          "2020"
         ],
         "xaxis": "x",
         "y": [
          38.11397757009346,
          51.47108888888889,
          81.4118744,
          66.89242738095238,
          91.48431388888889,
          118.86294841269842,
          103.69021150793651,
          149.4875545816733,
          187.1834203187251,
          206.27300277777778,
          307.83160250000003
         ],
         "yaxis": "y"
        }
       ],
       "layout": {
        "barmode": "group",
        "legend": {
         "title": {
          "text": "variable"
         },
         "tracegroupgap": 0
        },
        "template": {
         "data": {
          "bar": [
           {
            "error_x": {
             "color": "#2a3f5f"
            },
            "error_y": {
             "color": "#2a3f5f"
            },
            "marker": {
             "line": {
              "color": "#E5ECF6",
              "width": 0.5
             },
             "pattern": {
              "fillmode": "overlay",
              "size": 10,
              "solidity": 0.2
             }
            },
            "type": "bar"
           }
          ],
          "barpolar": [
           {
            "marker": {
             "line": {
              "color": "#E5ECF6",
              "width": 0.5
             },
             "pattern": {
              "fillmode": "overlay",
              "size": 10,
              "solidity": 0.2
             }
            },
            "type": "barpolar"
           }
          ],
          "carpet": [
           {
            "aaxis": {
             "endlinecolor": "#2a3f5f",
             "gridcolor": "white",
             "linecolor": "white",
             "minorgridcolor": "white",
             "startlinecolor": "#2a3f5f"
            },
            "baxis": {
             "endlinecolor": "#2a3f5f",
             "gridcolor": "white",
             "linecolor": "white",
             "minorgridcolor": "white",
             "startlinecolor": "#2a3f5f"
            },
            "type": "carpet"
           }
          ],
          "choropleth": [
           {
            "colorbar": {
             "outlinewidth": 0,
             "ticks": ""
            },
            "type": "choropleth"
           }
          ],
          "contour": [
           {
            "colorbar": {
             "outlinewidth": 0,
             "ticks": ""
            },
            "colorscale": [
             [
              0,
              "#0d0887"
             ],
             [
              0.1111111111111111,
              "#46039f"
             ],
             [
              0.2222222222222222,
              "#7201a8"
             ],
             [
              0.3333333333333333,
              "#9c179e"
             ],
             [
              0.4444444444444444,
              "#bd3786"
             ],
             [
              0.5555555555555556,
              "#d8576b"
             ],
             [
              0.6666666666666666,
              "#ed7953"
             ],
             [
              0.7777777777777778,
              "#fb9f3a"
             ],
             [
              0.8888888888888888,
              "#fdca26"
             ],
             [
              1,
              "#f0f921"
             ]
            ],
            "type": "contour"
           }
          ],
          "contourcarpet": [
           {
            "colorbar": {
             "outlinewidth": 0,
             "ticks": ""
            },
            "type": "contourcarpet"
           }
          ],
          "heatmap": [
           {
            "colorbar": {
             "outlinewidth": 0,
             "ticks": ""
            },
            "colorscale": [
             [
              0,
              "#0d0887"
             ],
             [
              0.1111111111111111,
              "#46039f"
             ],
             [
              0.2222222222222222,
              "#7201a8"
             ],
             [
              0.3333333333333333,
              "#9c179e"
             ],
             [
              0.4444444444444444,
              "#bd3786"
             ],
             [
              0.5555555555555556,
              "#d8576b"
             ],
             [
              0.6666666666666666,
              "#ed7953"
             ],
             [
              0.7777777777777778,
              "#fb9f3a"
             ],
             [
              0.8888888888888888,
              "#fdca26"
             ],
             [
              1,
              "#f0f921"
             ]
            ],
            "type": "heatmap"
           }
          ],
          "heatmapgl": [
           {
            "colorbar": {
             "outlinewidth": 0,
             "ticks": ""
            },
            "colorscale": [
             [
              0,
              "#0d0887"
             ],
             [
              0.1111111111111111,
              "#46039f"
             ],
             [
              0.2222222222222222,
              "#7201a8"
             ],
             [
              0.3333333333333333,
              "#9c179e"
             ],
             [
              0.4444444444444444,
              "#bd3786"
             ],
             [
              0.5555555555555556,
              "#d8576b"
             ],
             [
              0.6666666666666666,
              "#ed7953"
             ],
             [
              0.7777777777777778,
              "#fb9f3a"
             ],
             [
              0.8888888888888888,
              "#fdca26"
             ],
             [
              1,
              "#f0f921"
             ]
            ],
            "type": "heatmapgl"
           }
          ],
          "histogram": [
           {
            "marker": {
             "pattern": {
              "fillmode": "overlay",
              "size": 10,
              "solidity": 0.2
             }
            },
            "type": "histogram"
           }
          ],
          "histogram2d": [
           {
            "colorbar": {
             "outlinewidth": 0,
             "ticks": ""
            },
            "colorscale": [
             [
              0,
              "#0d0887"
             ],
             [
              0.1111111111111111,
              "#46039f"
             ],
             [
              0.2222222222222222,
              "#7201a8"
             ],
             [
              0.3333333333333333,
              "#9c179e"
             ],
             [
              0.4444444444444444,
              "#bd3786"
             ],
             [
              0.5555555555555556,
              "#d8576b"
             ],
             [
              0.6666666666666666,
              "#ed7953"
             ],
             [
              0.7777777777777778,
              "#fb9f3a"
             ],
             [
              0.8888888888888888,
              "#fdca26"
             ],
             [
              1,
              "#f0f921"
             ]
            ],
            "type": "histogram2d"
           }
          ],
          "histogram2dcontour": [
           {
            "colorbar": {
             "outlinewidth": 0,
             "ticks": ""
            },
            "colorscale": [
             [
              0,
              "#0d0887"
             ],
             [
              0.1111111111111111,
              "#46039f"
             ],
             [
              0.2222222222222222,
              "#7201a8"
             ],
             [
              0.3333333333333333,
              "#9c179e"
             ],
             [
              0.4444444444444444,
              "#bd3786"
             ],
             [
              0.5555555555555556,
              "#d8576b"
             ],
             [
              0.6666666666666666,
              "#ed7953"
             ],
             [
              0.7777777777777778,
              "#fb9f3a"
             ],
             [
              0.8888888888888888,
              "#fdca26"
             ],
             [
              1,
              "#f0f921"
             ]
            ],
            "type": "histogram2dcontour"
           }
          ],
          "mesh3d": [
           {
            "colorbar": {
             "outlinewidth": 0,
             "ticks": ""
            },
            "type": "mesh3d"
           }
          ],
          "parcoords": [
           {
            "line": {
             "colorbar": {
              "outlinewidth": 0,
              "ticks": ""
             }
            },
            "type": "parcoords"
           }
          ],
          "pie": [
           {
            "automargin": true,
            "type": "pie"
           }
          ],
          "scatter": [
           {
            "marker": {
             "colorbar": {
              "outlinewidth": 0,
              "ticks": ""
             }
            },
            "type": "scatter"
           }
          ],
          "scatter3d": [
           {
            "line": {
             "colorbar": {
              "outlinewidth": 0,
              "ticks": ""
             }
            },
            "marker": {
             "colorbar": {
              "outlinewidth": 0,
              "ticks": ""
             }
            },
            "type": "scatter3d"
           }
          ],
          "scattercarpet": [
           {
            "marker": {
             "colorbar": {
              "outlinewidth": 0,
              "ticks": ""
             }
            },
            "type": "scattercarpet"
           }
          ],
          "scattergeo": [
           {
            "marker": {
             "colorbar": {
              "outlinewidth": 0,
              "ticks": ""
             }
            },
            "type": "scattergeo"
           }
          ],
          "scattergl": [
           {
            "marker": {
             "colorbar": {
              "outlinewidth": 0,
              "ticks": ""
             }
            },
            "type": "scattergl"
           }
          ],
          "scattermapbox": [
           {
            "marker": {
             "colorbar": {
              "outlinewidth": 0,
              "ticks": ""
             }
            },
            "type": "scattermapbox"
           }
          ],
          "scatterpolar": [
           {
            "marker": {
             "colorbar": {
              "outlinewidth": 0,
              "ticks": ""
             }
            },
            "type": "scatterpolar"
           }
          ],
          "scatterpolargl": [
           {
            "marker": {
             "colorbar": {
              "outlinewidth": 0,
              "ticks": ""
             }
            },
            "type": "scatterpolargl"
           }
          ],
          "scatterternary": [
           {
            "marker": {
             "colorbar": {
              "outlinewidth": 0,
              "ticks": ""
             }
            },
            "type": "scatterternary"
           }
          ],
          "surface": [
           {
            "colorbar": {
             "outlinewidth": 0,
             "ticks": ""
            },
            "colorscale": [
             [
              0,
              "#0d0887"
             ],
             [
              0.1111111111111111,
              "#46039f"
             ],
             [
              0.2222222222222222,
              "#7201a8"
             ],
             [
              0.3333333333333333,
              "#9c179e"
             ],
             [
              0.4444444444444444,
              "#bd3786"
             ],
             [
              0.5555555555555556,
              "#d8576b"
             ],
             [
              0.6666666666666666,
              "#ed7953"
             ],
             [
              0.7777777777777778,
              "#fb9f3a"
             ],
             [
              0.8888888888888888,
              "#fdca26"
             ],
             [
              1,
              "#f0f921"
             ]
            ],
            "type": "surface"
           }
          ],
          "table": [
           {
            "cells": {
             "fill": {
              "color": "#EBF0F8"
             },
             "line": {
              "color": "white"
             }
            },
            "header": {
             "fill": {
              "color": "#C8D4E3"
             },
             "line": {
              "color": "white"
             }
            },
            "type": "table"
           }
          ]
         },
         "layout": {
          "annotationdefaults": {
           "arrowcolor": "#2a3f5f",
           "arrowhead": 0,
           "arrowwidth": 1
          },
          "autotypenumbers": "strict",
          "coloraxis": {
           "colorbar": {
            "outlinewidth": 0,
            "ticks": ""
           }
          },
          "colorscale": {
           "diverging": [
            [
             0,
             "#8e0152"
            ],
            [
             0.1,
             "#c51b7d"
            ],
            [
             0.2,
             "#de77ae"
            ],
            [
             0.3,
             "#f1b6da"
            ],
            [
             0.4,
             "#fde0ef"
            ],
            [
             0.5,
             "#f7f7f7"
            ],
            [
             0.6,
             "#e6f5d0"
            ],
            [
             0.7,
             "#b8e186"
            ],
            [
             0.8,
             "#7fbc41"
            ],
            [
             0.9,
             "#4d9221"
            ],
            [
             1,
             "#276419"
            ]
           ],
           "sequential": [
            [
             0,
             "#0d0887"
            ],
            [
             0.1111111111111111,
             "#46039f"
            ],
            [
             0.2222222222222222,
             "#7201a8"
            ],
            [
             0.3333333333333333,
             "#9c179e"
            ],
            [
             0.4444444444444444,
             "#bd3786"
            ],
            [
             0.5555555555555556,
             "#d8576b"
            ],
            [
             0.6666666666666666,
             "#ed7953"
            ],
            [
             0.7777777777777778,
             "#fb9f3a"
            ],
            [
             0.8888888888888888,
             "#fdca26"
            ],
            [
             1,
             "#f0f921"
            ]
           ],
           "sequentialminus": [
            [
             0,
             "#0d0887"
            ],
            [
             0.1111111111111111,
             "#46039f"
            ],
            [
             0.2222222222222222,
             "#7201a8"
            ],
            [
             0.3333333333333333,
             "#9c179e"
            ],
            [
             0.4444444444444444,
             "#bd3786"
            ],
            [
             0.5555555555555556,
             "#d8576b"
            ],
            [
             0.6666666666666666,
             "#ed7953"
            ],
            [
             0.7777777777777778,
             "#fb9f3a"
            ],
            [
             0.8888888888888888,
             "#fdca26"
            ],
            [
             1,
             "#f0f921"
            ]
           ]
          },
          "colorway": [
           "#636efa",
           "#EF553B",
           "#00cc96",
           "#ab63fa",
           "#FFA15A",
           "#19d3f3",
           "#FF6692",
           "#B6E880",
           "#FF97FF",
           "#FECB52"
          ],
          "font": {
           "color": "#2a3f5f"
          },
          "geo": {
           "bgcolor": "white",
           "lakecolor": "white",
           "landcolor": "#E5ECF6",
           "showlakes": true,
           "showland": true,
           "subunitcolor": "white"
          },
          "hoverlabel": {
           "align": "left"
          },
          "hovermode": "closest",
          "mapbox": {
           "style": "light"
          },
          "paper_bgcolor": "white",
          "plot_bgcolor": "#E5ECF6",
          "polar": {
           "angularaxis": {
            "gridcolor": "white",
            "linecolor": "white",
            "ticks": ""
           },
           "bgcolor": "#E5ECF6",
           "radialaxis": {
            "gridcolor": "white",
            "linecolor": "white",
            "ticks": ""
           }
          },
          "scene": {
           "xaxis": {
            "backgroundcolor": "#E5ECF6",
            "gridcolor": "white",
            "gridwidth": 2,
            "linecolor": "white",
            "showbackground": true,
            "ticks": "",
            "zerolinecolor": "white"
           },
           "yaxis": {
            "backgroundcolor": "#E5ECF6",
            "gridcolor": "white",
            "gridwidth": 2,
            "linecolor": "white",
            "showbackground": true,
            "ticks": "",
            "zerolinecolor": "white"
           },
           "zaxis": {
            "backgroundcolor": "#E5ECF6",
            "gridcolor": "white",
            "gridwidth": 2,
            "linecolor": "white",
            "showbackground": true,
            "ticks": "",
            "zerolinecolor": "white"
           }
          },
          "shapedefaults": {
           "line": {
            "color": "#2a3f5f"
           }
          },
          "ternary": {
           "aaxis": {
            "gridcolor": "white",
            "linecolor": "white",
            "ticks": ""
           },
           "baxis": {
            "gridcolor": "white",
            "linecolor": "white",
            "ticks": ""
           },
           "bgcolor": "#E5ECF6",
           "caxis": {
            "gridcolor": "white",
            "linecolor": "white",
            "ticks": ""
           }
          },
          "title": {
           "x": 0.05
          },
          "xaxis": {
           "automargin": true,
           "gridcolor": "white",
           "linecolor": "white",
           "ticks": "",
           "title": {
            "standoff": 15
           },
           "zerolinecolor": "white",
           "zerolinewidth": 2
          },
          "yaxis": {
           "automargin": true,
           "gridcolor": "white",
           "linecolor": "white",
           "ticks": "",
           "title": {
            "standoff": 15
           },
           "zerolinecolor": "white",
           "zerolinewidth": 2
          }
         }
        },
        "title": {
         "text": "Mean High and Low Prices by Year"
        },
        "xaxis": {
         "anchor": "y",
         "domain": [
          0,
          1
         ],
         "tickangle": -45,
         "title": {
          "text": "Year"
         }
        },
        "yaxis": {
         "anchor": "x",
         "domain": [
          0,
          1
         ],
         "title": {
          "text": "Mean Price"
         }
        }
       }
      }
     },
     "metadata": {},
     "output_type": "display_data"
    }
   ],
   "source": [
    "# plotting yearly mean of high and low\n",
    "\n",
    "fig = px.bar(yearly_mean, x='Date', y=['High', 'Low'], labels={'Date': 'Year', 'value': 'Mean Price'},\n",
    "             title='Mean High and Low Prices by Year')\n",
    "\n",
    "fig.update_layout(barmode='group', xaxis_tickangle=-45)\n",
    "\n",
    "fig.show()"
   ]
  },
  {
   "cell_type": "code",
   "execution_count": 121,
   "metadata": {},
   "outputs": [
    {
     "data": {
      "application/vnd.plotly.v1+json": {
       "config": {
        "plotlyServerURL": "https://plot.ly"
       },
       "data": [
        {
         "hovertemplate": "variable=Open<br>Year=%{x}<br>Stock value=%{y}<extra></extra>",
         "legendgroup": "Open",
         "line": {
          "color": "#636efa",
          "dash": "solid"
         },
         "marker": {
          "symbol": "circle"
         },
         "mode": "lines",
         "name": "Stock Open Price",
         "orientation": "v",
         "showlegend": true,
         "type": "scatter",
         "x": [
          "2010",
          "2011",
          "2012",
          "2013",
          "2014",
          "2015",
          "2016",
          "2017",
          "2018",
          "2019",
          "2020"
         ],
         "xaxis": "x",
         "y": [
          38.56276542056075,
          52.00876071428572,
          82.37891640000001,
          67.58969642857143,
          92.21975515873017,
          120.16952380952381,
          104.5076984126984,
          150.4508486055777,
          189.1055342629482,
          207.86907936507936,
          310.763725
         ],
         "yaxis": "y"
        },
        {
         "hovertemplate": "variable=Close<br>Year=%{x}<br>Stock value=%{y}<extra></extra>",
         "legendgroup": "Close",
         "line": {
          "color": "#EF553B",
          "dash": "solid"
         },
         "marker": {
          "symbol": "circle"
         },
         "mode": "lines",
         "name": "Stock Close Price",
         "orientation": "v",
         "showlegend": true,
         "type": "scatter",
         "x": [
          "2010",
          "2011",
          "2012",
          "2013",
          "2014",
          "2015",
          "2016",
          "2017",
          "2018",
          "2019",
          "2020"
         ],
         "xaxis": "x",
         "y": [
          38.55578037383177,
          52.0006003968254,
          82.29279519999999,
          67.51923968253968,
          92.26455,
          120.03986111111111,
          104.60400793650793,
          150.55105577689244,
          189.05342629482072,
          208.25593253968256,
          311.60949999999997
         ],
         "yaxis": "y"
        },
        {
         "hovertemplate": "variable=High<br>Year=%{x}<br>Stock value=%{y}<extra></extra>",
         "legendgroup": "High",
         "line": {
          "color": "#00cc96",
          "dash": "solid"
         },
         "marker": {
          "symbol": "circle"
         },
         "mode": "lines",
         "name": "Stock High Price",
         "orientation": "v",
         "showlegend": true,
         "type": "scatter",
         "x": [
          "2010",
          "2011",
          "2012",
          "2013",
          "2014",
          "2015",
          "2016",
          "2017",
          "2018",
          "2019",
          "2020"
         ],
         "xaxis": "x",
         "y": [
          38.91517943925234,
          52.489069444444446,
          83.1178888,
          68.23410317460316,
          93.0125996031746,
          121.24145793650793,
          105.4270626984127,
          151.40600517928286,
          190.99405179282869,
          209.83161626984128,
          314.7662475
         ],
         "yaxis": "y"
        },
        {
         "hovertemplate": "variable=Low<br>Year=%{x}<br>Stock value=%{y}<extra></extra>",
         "legendgroup": "Low",
         "line": {
          "color": "#ab63fa",
          "dash": "solid"
         },
         "marker": {
          "symbol": "circle"
         },
         "mode": "lines",
         "name": "Stock Low Price",
         "orientation": "v",
         "showlegend": true,
         "type": "scatter",
         "x": [
          "2010",
          "2011",
          "2012",
          "2013",
          "2014",
          "2015",
          "2016",
          "2017",
          "2018",
          "2019",
          "2020"
         ],
         "xaxis": "x",
         "y": [
          38.11397757009346,
          51.47108888888889,
          81.4118744,
          66.89242738095238,
          91.48431388888889,
          118.86294841269842,
          103.69021150793651,
          149.4875545816733,
          187.1834203187251,
          206.27300277777778,
          307.83160250000003
         ],
         "yaxis": "y"
        }
       ],
       "layout": {
        "font": {
         "color": "black",
         "size": 15
        },
        "legend": {
         "title": {
          "text": "Stock Parameters"
         },
         "tracegroupgap": 0
        },
        "margin": {
         "t": 60
        },
        "template": {
         "data": {
          "bar": [
           {
            "error_x": {
             "color": "#2a3f5f"
            },
            "error_y": {
             "color": "#2a3f5f"
            },
            "marker": {
             "line": {
              "color": "#E5ECF6",
              "width": 0.5
             },
             "pattern": {
              "fillmode": "overlay",
              "size": 10,
              "solidity": 0.2
             }
            },
            "type": "bar"
           }
          ],
          "barpolar": [
           {
            "marker": {
             "line": {
              "color": "#E5ECF6",
              "width": 0.5
             },
             "pattern": {
              "fillmode": "overlay",
              "size": 10,
              "solidity": 0.2
             }
            },
            "type": "barpolar"
           }
          ],
          "carpet": [
           {
            "aaxis": {
             "endlinecolor": "#2a3f5f",
             "gridcolor": "white",
             "linecolor": "white",
             "minorgridcolor": "white",
             "startlinecolor": "#2a3f5f"
            },
            "baxis": {
             "endlinecolor": "#2a3f5f",
             "gridcolor": "white",
             "linecolor": "white",
             "minorgridcolor": "white",
             "startlinecolor": "#2a3f5f"
            },
            "type": "carpet"
           }
          ],
          "choropleth": [
           {
            "colorbar": {
             "outlinewidth": 0,
             "ticks": ""
            },
            "type": "choropleth"
           }
          ],
          "contour": [
           {
            "colorbar": {
             "outlinewidth": 0,
             "ticks": ""
            },
            "colorscale": [
             [
              0,
              "#0d0887"
             ],
             [
              0.1111111111111111,
              "#46039f"
             ],
             [
              0.2222222222222222,
              "#7201a8"
             ],
             [
              0.3333333333333333,
              "#9c179e"
             ],
             [
              0.4444444444444444,
              "#bd3786"
             ],
             [
              0.5555555555555556,
              "#d8576b"
             ],
             [
              0.6666666666666666,
              "#ed7953"
             ],
             [
              0.7777777777777778,
              "#fb9f3a"
             ],
             [
              0.8888888888888888,
              "#fdca26"
             ],
             [
              1,
              "#f0f921"
             ]
            ],
            "type": "contour"
           }
          ],
          "contourcarpet": [
           {
            "colorbar": {
             "outlinewidth": 0,
             "ticks": ""
            },
            "type": "contourcarpet"
           }
          ],
          "heatmap": [
           {
            "colorbar": {
             "outlinewidth": 0,
             "ticks": ""
            },
            "colorscale": [
             [
              0,
              "#0d0887"
             ],
             [
              0.1111111111111111,
              "#46039f"
             ],
             [
              0.2222222222222222,
              "#7201a8"
             ],
             [
              0.3333333333333333,
              "#9c179e"
             ],
             [
              0.4444444444444444,
              "#bd3786"
             ],
             [
              0.5555555555555556,
              "#d8576b"
             ],
             [
              0.6666666666666666,
              "#ed7953"
             ],
             [
              0.7777777777777778,
              "#fb9f3a"
             ],
             [
              0.8888888888888888,
              "#fdca26"
             ],
             [
              1,
              "#f0f921"
             ]
            ],
            "type": "heatmap"
           }
          ],
          "heatmapgl": [
           {
            "colorbar": {
             "outlinewidth": 0,
             "ticks": ""
            },
            "colorscale": [
             [
              0,
              "#0d0887"
             ],
             [
              0.1111111111111111,
              "#46039f"
             ],
             [
              0.2222222222222222,
              "#7201a8"
             ],
             [
              0.3333333333333333,
              "#9c179e"
             ],
             [
              0.4444444444444444,
              "#bd3786"
             ],
             [
              0.5555555555555556,
              "#d8576b"
             ],
             [
              0.6666666666666666,
              "#ed7953"
             ],
             [
              0.7777777777777778,
              "#fb9f3a"
             ],
             [
              0.8888888888888888,
              "#fdca26"
             ],
             [
              1,
              "#f0f921"
             ]
            ],
            "type": "heatmapgl"
           }
          ],
          "histogram": [
           {
            "marker": {
             "pattern": {
              "fillmode": "overlay",
              "size": 10,
              "solidity": 0.2
             }
            },
            "type": "histogram"
           }
          ],
          "histogram2d": [
           {
            "colorbar": {
             "outlinewidth": 0,
             "ticks": ""
            },
            "colorscale": [
             [
              0,
              "#0d0887"
             ],
             [
              0.1111111111111111,
              "#46039f"
             ],
             [
              0.2222222222222222,
              "#7201a8"
             ],
             [
              0.3333333333333333,
              "#9c179e"
             ],
             [
              0.4444444444444444,
              "#bd3786"
             ],
             [
              0.5555555555555556,
              "#d8576b"
             ],
             [
              0.6666666666666666,
              "#ed7953"
             ],
             [
              0.7777777777777778,
              "#fb9f3a"
             ],
             [
              0.8888888888888888,
              "#fdca26"
             ],
             [
              1,
              "#f0f921"
             ]
            ],
            "type": "histogram2d"
           }
          ],
          "histogram2dcontour": [
           {
            "colorbar": {
             "outlinewidth": 0,
             "ticks": ""
            },
            "colorscale": [
             [
              0,
              "#0d0887"
             ],
             [
              0.1111111111111111,
              "#46039f"
             ],
             [
              0.2222222222222222,
              "#7201a8"
             ],
             [
              0.3333333333333333,
              "#9c179e"
             ],
             [
              0.4444444444444444,
              "#bd3786"
             ],
             [
              0.5555555555555556,
              "#d8576b"
             ],
             [
              0.6666666666666666,
              "#ed7953"
             ],
             [
              0.7777777777777778,
              "#fb9f3a"
             ],
             [
              0.8888888888888888,
              "#fdca26"
             ],
             [
              1,
              "#f0f921"
             ]
            ],
            "type": "histogram2dcontour"
           }
          ],
          "mesh3d": [
           {
            "colorbar": {
             "outlinewidth": 0,
             "ticks": ""
            },
            "type": "mesh3d"
           }
          ],
          "parcoords": [
           {
            "line": {
             "colorbar": {
              "outlinewidth": 0,
              "ticks": ""
             }
            },
            "type": "parcoords"
           }
          ],
          "pie": [
           {
            "automargin": true,
            "type": "pie"
           }
          ],
          "scatter": [
           {
            "marker": {
             "colorbar": {
              "outlinewidth": 0,
              "ticks": ""
             }
            },
            "type": "scatter"
           }
          ],
          "scatter3d": [
           {
            "line": {
             "colorbar": {
              "outlinewidth": 0,
              "ticks": ""
             }
            },
            "marker": {
             "colorbar": {
              "outlinewidth": 0,
              "ticks": ""
             }
            },
            "type": "scatter3d"
           }
          ],
          "scattercarpet": [
           {
            "marker": {
             "colorbar": {
              "outlinewidth": 0,
              "ticks": ""
             }
            },
            "type": "scattercarpet"
           }
          ],
          "scattergeo": [
           {
            "marker": {
             "colorbar": {
              "outlinewidth": 0,
              "ticks": ""
             }
            },
            "type": "scattergeo"
           }
          ],
          "scattergl": [
           {
            "marker": {
             "colorbar": {
              "outlinewidth": 0,
              "ticks": ""
             }
            },
            "type": "scattergl"
           }
          ],
          "scattermapbox": [
           {
            "marker": {
             "colorbar": {
              "outlinewidth": 0,
              "ticks": ""
             }
            },
            "type": "scattermapbox"
           }
          ],
          "scatterpolar": [
           {
            "marker": {
             "colorbar": {
              "outlinewidth": 0,
              "ticks": ""
             }
            },
            "type": "scatterpolar"
           }
          ],
          "scatterpolargl": [
           {
            "marker": {
             "colorbar": {
              "outlinewidth": 0,
              "ticks": ""
             }
            },
            "type": "scatterpolargl"
           }
          ],
          "scatterternary": [
           {
            "marker": {
             "colorbar": {
              "outlinewidth": 0,
              "ticks": ""
             }
            },
            "type": "scatterternary"
           }
          ],
          "surface": [
           {
            "colorbar": {
             "outlinewidth": 0,
             "ticks": ""
            },
            "colorscale": [
             [
              0,
              "#0d0887"
             ],
             [
              0.1111111111111111,
              "#46039f"
             ],
             [
              0.2222222222222222,
              "#7201a8"
             ],
             [
              0.3333333333333333,
              "#9c179e"
             ],
             [
              0.4444444444444444,
              "#bd3786"
             ],
             [
              0.5555555555555556,
              "#d8576b"
             ],
             [
              0.6666666666666666,
              "#ed7953"
             ],
             [
              0.7777777777777778,
              "#fb9f3a"
             ],
             [
              0.8888888888888888,
              "#fdca26"
             ],
             [
              1,
              "#f0f921"
             ]
            ],
            "type": "surface"
           }
          ],
          "table": [
           {
            "cells": {
             "fill": {
              "color": "#EBF0F8"
             },
             "line": {
              "color": "white"
             }
            },
            "header": {
             "fill": {
              "color": "#C8D4E3"
             },
             "line": {
              "color": "white"
             }
            },
            "type": "table"
           }
          ]
         },
         "layout": {
          "annotationdefaults": {
           "arrowcolor": "#2a3f5f",
           "arrowhead": 0,
           "arrowwidth": 1
          },
          "autotypenumbers": "strict",
          "coloraxis": {
           "colorbar": {
            "outlinewidth": 0,
            "ticks": ""
           }
          },
          "colorscale": {
           "diverging": [
            [
             0,
             "#8e0152"
            ],
            [
             0.1,
             "#c51b7d"
            ],
            [
             0.2,
             "#de77ae"
            ],
            [
             0.3,
             "#f1b6da"
            ],
            [
             0.4,
             "#fde0ef"
            ],
            [
             0.5,
             "#f7f7f7"
            ],
            [
             0.6,
             "#e6f5d0"
            ],
            [
             0.7,
             "#b8e186"
            ],
            [
             0.8,
             "#7fbc41"
            ],
            [
             0.9,
             "#4d9221"
            ],
            [
             1,
             "#276419"
            ]
           ],
           "sequential": [
            [
             0,
             "#0d0887"
            ],
            [
             0.1111111111111111,
             "#46039f"
            ],
            [
             0.2222222222222222,
             "#7201a8"
            ],
            [
             0.3333333333333333,
             "#9c179e"
            ],
            [
             0.4444444444444444,
             "#bd3786"
            ],
            [
             0.5555555555555556,
             "#d8576b"
            ],
            [
             0.6666666666666666,
             "#ed7953"
            ],
            [
             0.7777777777777778,
             "#fb9f3a"
            ],
            [
             0.8888888888888888,
             "#fdca26"
            ],
            [
             1,
             "#f0f921"
            ]
           ],
           "sequentialminus": [
            [
             0,
             "#0d0887"
            ],
            [
             0.1111111111111111,
             "#46039f"
            ],
            [
             0.2222222222222222,
             "#7201a8"
            ],
            [
             0.3333333333333333,
             "#9c179e"
            ],
            [
             0.4444444444444444,
             "#bd3786"
            ],
            [
             0.5555555555555556,
             "#d8576b"
            ],
            [
             0.6666666666666666,
             "#ed7953"
            ],
            [
             0.7777777777777778,
             "#fb9f3a"
            ],
            [
             0.8888888888888888,
             "#fdca26"
            ],
            [
             1,
             "#f0f921"
            ]
           ]
          },
          "colorway": [
           "#636efa",
           "#EF553B",
           "#00cc96",
           "#ab63fa",
           "#FFA15A",
           "#19d3f3",
           "#FF6692",
           "#B6E880",
           "#FF97FF",
           "#FECB52"
          ],
          "font": {
           "color": "#2a3f5f"
          },
          "geo": {
           "bgcolor": "white",
           "lakecolor": "white",
           "landcolor": "#E5ECF6",
           "showlakes": true,
           "showland": true,
           "subunitcolor": "white"
          },
          "hoverlabel": {
           "align": "left"
          },
          "hovermode": "closest",
          "mapbox": {
           "style": "light"
          },
          "paper_bgcolor": "white",
          "plot_bgcolor": "#E5ECF6",
          "polar": {
           "angularaxis": {
            "gridcolor": "white",
            "linecolor": "white",
            "ticks": ""
           },
           "bgcolor": "#E5ECF6",
           "radialaxis": {
            "gridcolor": "white",
            "linecolor": "white",
            "ticks": ""
           }
          },
          "scene": {
           "xaxis": {
            "backgroundcolor": "#E5ECF6",
            "gridcolor": "white",
            "gridwidth": 2,
            "linecolor": "white",
            "showbackground": true,
            "ticks": "",
            "zerolinecolor": "white"
           },
           "yaxis": {
            "backgroundcolor": "#E5ECF6",
            "gridcolor": "white",
            "gridwidth": 2,
            "linecolor": "white",
            "showbackground": true,
            "ticks": "",
            "zerolinecolor": "white"
           },
           "zaxis": {
            "backgroundcolor": "#E5ECF6",
            "gridcolor": "white",
            "gridwidth": 2,
            "linecolor": "white",
            "showbackground": true,
            "ticks": "",
            "zerolinecolor": "white"
           }
          },
          "shapedefaults": {
           "line": {
            "color": "#2a3f5f"
           }
          },
          "ternary": {
           "aaxis": {
            "gridcolor": "white",
            "linecolor": "white",
            "ticks": ""
           },
           "baxis": {
            "gridcolor": "white",
            "linecolor": "white",
            "ticks": ""
           },
           "bgcolor": "#E5ECF6",
           "caxis": {
            "gridcolor": "white",
            "linecolor": "white",
            "ticks": ""
           }
          },
          "title": {
           "x": 0.05
          },
          "xaxis": {
           "automargin": true,
           "gridcolor": "white",
           "linecolor": "white",
           "ticks": "",
           "title": {
            "standoff": 15
           },
           "zerolinecolor": "white",
           "zerolinewidth": 2
          },
          "yaxis": {
           "automargin": true,
           "gridcolor": "white",
           "linecolor": "white",
           "ticks": "",
           "title": {
            "standoff": 15
           },
           "zerolinecolor": "white",
           "zerolinewidth": 2
          }
         }
        },
        "title": {
         "text": "Stock analysis chart"
        },
        "xaxis": {
         "anchor": "y",
         "domain": [
          0,
          1
         ],
         "showgrid": false,
         "title": {
          "text": "Year"
         }
        },
        "yaxis": {
         "anchor": "x",
         "domain": [
          0,
          1
         ],
         "showgrid": false,
         "title": {
          "text": "Stock value"
         }
        }
       }
      }
     },
     "metadata": {},
     "output_type": "display_data"
    }
   ],
   "source": [
    "# plotting overall stock analysis over the years\n",
    "\n",
    "names = cycle(['Stock Open Price','Stock Close Price','Stock High Price','Stock Low Price'])\n",
    "\n",
    "fig = px.line(yearly_mean, x='Date', y=['Open', 'Close', 'High', 'Low'], labels={'Date': 'Year','value':'Stock value'})\n",
    "\n",
    "fig.update_layout(title_text='Stock analysis chart', font_size=15, font_color='black',\n",
    "                  legend_title_text='Stock Parameters')\n",
    "\n",
    "fig.for_each_trace(lambda t:  t.update(name = next(names)))\n",
    "\n",
    "fig.update_xaxes(showgrid=False)\n",
    "fig.update_yaxes(showgrid=False)\n",
    "\n",
    "fig.show()"
   ]
  },
  {
   "cell_type": "code",
   "execution_count": 122,
   "metadata": {},
   "outputs": [
    {
     "data": {
      "application/vnd.plotly.v1+json": {
       "config": {
        "plotlyServerURL": "https://plot.ly"
       },
       "data": [
        {
         "hovertemplate": "Year=%{x}<br>Close=%{y}<extra></extra>",
         "legendgroup": "",
         "line": {
          "color": "#636efa",
          "dash": "solid"
         },
         "marker": {
          "line": {
           "width": 2
          },
          "symbol": "circle"
         },
         "mode": "lines",
         "name": "",
         "opacity": 0.8,
         "orientation": "v",
         "showlegend": false,
         "type": "scatter",
         "x": [
          "2010",
          "2011",
          "2012",
          "2013",
          "2014",
          "2015",
          "2016",
          "2017",
          "2018",
          "2019",
          "2020"
         ],
         "xaxis": "x",
         "y": [
          38.55578037383177,
          52.0006003968254,
          82.29279519999999,
          67.51923968253968,
          92.26455,
          120.03986111111111,
          104.60400793650793,
          150.55105577689244,
          189.05342629482072,
          208.25593253968256,
          311.60949999999997
         ],
         "yaxis": "y"
        }
       ],
       "layout": {
        "font": {
         "color": "black",
         "size": 15
        },
        "legend": {
         "tracegroupgap": 0
        },
        "margin": {
         "t": 60
        },
        "plot_bgcolor": "white",
        "template": {
         "data": {
          "bar": [
           {
            "error_x": {
             "color": "#2a3f5f"
            },
            "error_y": {
             "color": "#2a3f5f"
            },
            "marker": {
             "line": {
              "color": "#E5ECF6",
              "width": 0.5
             },
             "pattern": {
              "fillmode": "overlay",
              "size": 10,
              "solidity": 0.2
             }
            },
            "type": "bar"
           }
          ],
          "barpolar": [
           {
            "marker": {
             "line": {
              "color": "#E5ECF6",
              "width": 0.5
             },
             "pattern": {
              "fillmode": "overlay",
              "size": 10,
              "solidity": 0.2
             }
            },
            "type": "barpolar"
           }
          ],
          "carpet": [
           {
            "aaxis": {
             "endlinecolor": "#2a3f5f",
             "gridcolor": "white",
             "linecolor": "white",
             "minorgridcolor": "white",
             "startlinecolor": "#2a3f5f"
            },
            "baxis": {
             "endlinecolor": "#2a3f5f",
             "gridcolor": "white",
             "linecolor": "white",
             "minorgridcolor": "white",
             "startlinecolor": "#2a3f5f"
            },
            "type": "carpet"
           }
          ],
          "choropleth": [
           {
            "colorbar": {
             "outlinewidth": 0,
             "ticks": ""
            },
            "type": "choropleth"
           }
          ],
          "contour": [
           {
            "colorbar": {
             "outlinewidth": 0,
             "ticks": ""
            },
            "colorscale": [
             [
              0,
              "#0d0887"
             ],
             [
              0.1111111111111111,
              "#46039f"
             ],
             [
              0.2222222222222222,
              "#7201a8"
             ],
             [
              0.3333333333333333,
              "#9c179e"
             ],
             [
              0.4444444444444444,
              "#bd3786"
             ],
             [
              0.5555555555555556,
              "#d8576b"
             ],
             [
              0.6666666666666666,
              "#ed7953"
             ],
             [
              0.7777777777777778,
              "#fb9f3a"
             ],
             [
              0.8888888888888888,
              "#fdca26"
             ],
             [
              1,
              "#f0f921"
             ]
            ],
            "type": "contour"
           }
          ],
          "contourcarpet": [
           {
            "colorbar": {
             "outlinewidth": 0,
             "ticks": ""
            },
            "type": "contourcarpet"
           }
          ],
          "heatmap": [
           {
            "colorbar": {
             "outlinewidth": 0,
             "ticks": ""
            },
            "colorscale": [
             [
              0,
              "#0d0887"
             ],
             [
              0.1111111111111111,
              "#46039f"
             ],
             [
              0.2222222222222222,
              "#7201a8"
             ],
             [
              0.3333333333333333,
              "#9c179e"
             ],
             [
              0.4444444444444444,
              "#bd3786"
             ],
             [
              0.5555555555555556,
              "#d8576b"
             ],
             [
              0.6666666666666666,
              "#ed7953"
             ],
             [
              0.7777777777777778,
              "#fb9f3a"
             ],
             [
              0.8888888888888888,
              "#fdca26"
             ],
             [
              1,
              "#f0f921"
             ]
            ],
            "type": "heatmap"
           }
          ],
          "heatmapgl": [
           {
            "colorbar": {
             "outlinewidth": 0,
             "ticks": ""
            },
            "colorscale": [
             [
              0,
              "#0d0887"
             ],
             [
              0.1111111111111111,
              "#46039f"
             ],
             [
              0.2222222222222222,
              "#7201a8"
             ],
             [
              0.3333333333333333,
              "#9c179e"
             ],
             [
              0.4444444444444444,
              "#bd3786"
             ],
             [
              0.5555555555555556,
              "#d8576b"
             ],
             [
              0.6666666666666666,
              "#ed7953"
             ],
             [
              0.7777777777777778,
              "#fb9f3a"
             ],
             [
              0.8888888888888888,
              "#fdca26"
             ],
             [
              1,
              "#f0f921"
             ]
            ],
            "type": "heatmapgl"
           }
          ],
          "histogram": [
           {
            "marker": {
             "pattern": {
              "fillmode": "overlay",
              "size": 10,
              "solidity": 0.2
             }
            },
            "type": "histogram"
           }
          ],
          "histogram2d": [
           {
            "colorbar": {
             "outlinewidth": 0,
             "ticks": ""
            },
            "colorscale": [
             [
              0,
              "#0d0887"
             ],
             [
              0.1111111111111111,
              "#46039f"
             ],
             [
              0.2222222222222222,
              "#7201a8"
             ],
             [
              0.3333333333333333,
              "#9c179e"
             ],
             [
              0.4444444444444444,
              "#bd3786"
             ],
             [
              0.5555555555555556,
              "#d8576b"
             ],
             [
              0.6666666666666666,
              "#ed7953"
             ],
             [
              0.7777777777777778,
              "#fb9f3a"
             ],
             [
              0.8888888888888888,
              "#fdca26"
             ],
             [
              1,
              "#f0f921"
             ]
            ],
            "type": "histogram2d"
           }
          ],
          "histogram2dcontour": [
           {
            "colorbar": {
             "outlinewidth": 0,
             "ticks": ""
            },
            "colorscale": [
             [
              0,
              "#0d0887"
             ],
             [
              0.1111111111111111,
              "#46039f"
             ],
             [
              0.2222222222222222,
              "#7201a8"
             ],
             [
              0.3333333333333333,
              "#9c179e"
             ],
             [
              0.4444444444444444,
              "#bd3786"
             ],
             [
              0.5555555555555556,
              "#d8576b"
             ],
             [
              0.6666666666666666,
              "#ed7953"
             ],
             [
              0.7777777777777778,
              "#fb9f3a"
             ],
             [
              0.8888888888888888,
              "#fdca26"
             ],
             [
              1,
              "#f0f921"
             ]
            ],
            "type": "histogram2dcontour"
           }
          ],
          "mesh3d": [
           {
            "colorbar": {
             "outlinewidth": 0,
             "ticks": ""
            },
            "type": "mesh3d"
           }
          ],
          "parcoords": [
           {
            "line": {
             "colorbar": {
              "outlinewidth": 0,
              "ticks": ""
             }
            },
            "type": "parcoords"
           }
          ],
          "pie": [
           {
            "automargin": true,
            "type": "pie"
           }
          ],
          "scatter": [
           {
            "marker": {
             "colorbar": {
              "outlinewidth": 0,
              "ticks": ""
             }
            },
            "type": "scatter"
           }
          ],
          "scatter3d": [
           {
            "line": {
             "colorbar": {
              "outlinewidth": 0,
              "ticks": ""
             }
            },
            "marker": {
             "colorbar": {
              "outlinewidth": 0,
              "ticks": ""
             }
            },
            "type": "scatter3d"
           }
          ],
          "scattercarpet": [
           {
            "marker": {
             "colorbar": {
              "outlinewidth": 0,
              "ticks": ""
             }
            },
            "type": "scattercarpet"
           }
          ],
          "scattergeo": [
           {
            "marker": {
             "colorbar": {
              "outlinewidth": 0,
              "ticks": ""
             }
            },
            "type": "scattergeo"
           }
          ],
          "scattergl": [
           {
            "marker": {
             "colorbar": {
              "outlinewidth": 0,
              "ticks": ""
             }
            },
            "type": "scattergl"
           }
          ],
          "scattermapbox": [
           {
            "marker": {
             "colorbar": {
              "outlinewidth": 0,
              "ticks": ""
             }
            },
            "type": "scattermapbox"
           }
          ],
          "scatterpolar": [
           {
            "marker": {
             "colorbar": {
              "outlinewidth": 0,
              "ticks": ""
             }
            },
            "type": "scatterpolar"
           }
          ],
          "scatterpolargl": [
           {
            "marker": {
             "colorbar": {
              "outlinewidth": 0,
              "ticks": ""
             }
            },
            "type": "scatterpolargl"
           }
          ],
          "scatterternary": [
           {
            "marker": {
             "colorbar": {
              "outlinewidth": 0,
              "ticks": ""
             }
            },
            "type": "scatterternary"
           }
          ],
          "surface": [
           {
            "colorbar": {
             "outlinewidth": 0,
             "ticks": ""
            },
            "colorscale": [
             [
              0,
              "#0d0887"
             ],
             [
              0.1111111111111111,
              "#46039f"
             ],
             [
              0.2222222222222222,
              "#7201a8"
             ],
             [
              0.3333333333333333,
              "#9c179e"
             ],
             [
              0.4444444444444444,
              "#bd3786"
             ],
             [
              0.5555555555555556,
              "#d8576b"
             ],
             [
              0.6666666666666666,
              "#ed7953"
             ],
             [
              0.7777777777777778,
              "#fb9f3a"
             ],
             [
              0.8888888888888888,
              "#fdca26"
             ],
             [
              1,
              "#f0f921"
             ]
            ],
            "type": "surface"
           }
          ],
          "table": [
           {
            "cells": {
             "fill": {
              "color": "#EBF0F8"
             },
             "line": {
              "color": "white"
             }
            },
            "header": {
             "fill": {
              "color": "#C8D4E3"
             },
             "line": {
              "color": "white"
             }
            },
            "type": "table"
           }
          ]
         },
         "layout": {
          "annotationdefaults": {
           "arrowcolor": "#2a3f5f",
           "arrowhead": 0,
           "arrowwidth": 1
          },
          "autotypenumbers": "strict",
          "coloraxis": {
           "colorbar": {
            "outlinewidth": 0,
            "ticks": ""
           }
          },
          "colorscale": {
           "diverging": [
            [
             0,
             "#8e0152"
            ],
            [
             0.1,
             "#c51b7d"
            ],
            [
             0.2,
             "#de77ae"
            ],
            [
             0.3,
             "#f1b6da"
            ],
            [
             0.4,
             "#fde0ef"
            ],
            [
             0.5,
             "#f7f7f7"
            ],
            [
             0.6,
             "#e6f5d0"
            ],
            [
             0.7,
             "#b8e186"
            ],
            [
             0.8,
             "#7fbc41"
            ],
            [
             0.9,
             "#4d9221"
            ],
            [
             1,
             "#276419"
            ]
           ],
           "sequential": [
            [
             0,
             "#0d0887"
            ],
            [
             0.1111111111111111,
             "#46039f"
            ],
            [
             0.2222222222222222,
             "#7201a8"
            ],
            [
             0.3333333333333333,
             "#9c179e"
            ],
            [
             0.4444444444444444,
             "#bd3786"
            ],
            [
             0.5555555555555556,
             "#d8576b"
            ],
            [
             0.6666666666666666,
             "#ed7953"
            ],
            [
             0.7777777777777778,
             "#fb9f3a"
            ],
            [
             0.8888888888888888,
             "#fdca26"
            ],
            [
             1,
             "#f0f921"
            ]
           ],
           "sequentialminus": [
            [
             0,
             "#0d0887"
            ],
            [
             0.1111111111111111,
             "#46039f"
            ],
            [
             0.2222222222222222,
             "#7201a8"
            ],
            [
             0.3333333333333333,
             "#9c179e"
            ],
            [
             0.4444444444444444,
             "#bd3786"
            ],
            [
             0.5555555555555556,
             "#d8576b"
            ],
            [
             0.6666666666666666,
             "#ed7953"
            ],
            [
             0.7777777777777778,
             "#fb9f3a"
            ],
            [
             0.8888888888888888,
             "#fdca26"
            ],
            [
             1,
             "#f0f921"
            ]
           ]
          },
          "colorway": [
           "#636efa",
           "#EF553B",
           "#00cc96",
           "#ab63fa",
           "#FFA15A",
           "#19d3f3",
           "#FF6692",
           "#B6E880",
           "#FF97FF",
           "#FECB52"
          ],
          "font": {
           "color": "#2a3f5f"
          },
          "geo": {
           "bgcolor": "white",
           "lakecolor": "white",
           "landcolor": "#E5ECF6",
           "showlakes": true,
           "showland": true,
           "subunitcolor": "white"
          },
          "hoverlabel": {
           "align": "left"
          },
          "hovermode": "closest",
          "mapbox": {
           "style": "light"
          },
          "paper_bgcolor": "white",
          "plot_bgcolor": "#E5ECF6",
          "polar": {
           "angularaxis": {
            "gridcolor": "white",
            "linecolor": "white",
            "ticks": ""
           },
           "bgcolor": "#E5ECF6",
           "radialaxis": {
            "gridcolor": "white",
            "linecolor": "white",
            "ticks": ""
           }
          },
          "scene": {
           "xaxis": {
            "backgroundcolor": "#E5ECF6",
            "gridcolor": "white",
            "gridwidth": 2,
            "linecolor": "white",
            "showbackground": true,
            "ticks": "",
            "zerolinecolor": "white"
           },
           "yaxis": {
            "backgroundcolor": "#E5ECF6",
            "gridcolor": "white",
            "gridwidth": 2,
            "linecolor": "white",
            "showbackground": true,
            "ticks": "",
            "zerolinecolor": "white"
           },
           "zaxis": {
            "backgroundcolor": "#E5ECF6",
            "gridcolor": "white",
            "gridwidth": 2,
            "linecolor": "white",
            "showbackground": true,
            "ticks": "",
            "zerolinecolor": "white"
           }
          },
          "shapedefaults": {
           "line": {
            "color": "#2a3f5f"
           }
          },
          "ternary": {
           "aaxis": {
            "gridcolor": "white",
            "linecolor": "white",
            "ticks": ""
           },
           "baxis": {
            "gridcolor": "white",
            "linecolor": "white",
            "ticks": ""
           },
           "bgcolor": "#E5ECF6",
           "caxis": {
            "gridcolor": "white",
            "linecolor": "white",
            "ticks": ""
           }
          },
          "title": {
           "x": 0.05
          },
          "xaxis": {
           "automargin": true,
           "gridcolor": "white",
           "linecolor": "white",
           "ticks": "",
           "title": {
            "standoff": 15
           },
           "zerolinecolor": "white",
           "zerolinewidth": 2
          },
          "yaxis": {
           "automargin": true,
           "gridcolor": "white",
           "linecolor": "white",
           "ticks": "",
           "title": {
            "standoff": 15
           },
           "zerolinecolor": "white",
           "zerolinewidth": 2
          }
         }
        },
        "title": {
         "text": "Apple Inc. Close Price for Time Period 2010-2020"
        },
        "xaxis": {
         "anchor": "y",
         "domain": [
          0,
          1
         ],
         "showgrid": false,
         "title": {
          "text": "Year"
         }
        },
        "yaxis": {
         "anchor": "x",
         "domain": [
          0,
          1
         ],
         "showgrid": false,
         "title": {
          "text": "Close"
         }
        }
       }
      }
     },
     "metadata": {},
     "output_type": "display_data"
    }
   ],
   "source": [
    "# plotting mean close price by year \n",
    "\n",
    "fig = px.line(yearly_mean, x='Date', y='Close', labels={'Date':'Year','close':'Close Stock'})\n",
    "\n",
    "fig.update_traces(marker_line_width=2, opacity=0.8)\n",
    "\n",
    "fig.update_layout(title_text='Apple Inc. Close Price for Time Period 2010-2020', plot_bgcolor='white', \n",
    "                  font_size=15, font_color='black')\n",
    "\n",
    "fig.update_xaxes(showgrid=False)\n",
    "fig.update_yaxes(showgrid=False)\n",
    "\n",
    "fig.show()"
   ]
  },
  {
   "cell_type": "markdown",
   "metadata": {},
   "source": [
    "### <i>Feature Engineering</i>"
   ]
  },
  {
   "cell_type": "code",
   "execution_count": 123,
   "metadata": {},
   "outputs": [
    {
     "name": "stdout",
     "output_type": "stream",
     "text": [
      "Shape of close_df is (2518, 1)\n"
     ]
    }
   ],
   "source": [
    "close_df = df[['Close']]\n",
    "print(\"Shape of close_df is\", close_df.shape)"
   ]
  },
  {
   "cell_type": "code",
   "execution_count": 124,
   "metadata": {},
   "outputs": [
    {
     "data": {
      "text/html": [
       "<div>\n",
       "<style scoped>\n",
       "    .dataframe tbody tr th:only-of-type {\n",
       "        vertical-align: middle;\n",
       "    }\n",
       "\n",
       "    .dataframe tbody tr th {\n",
       "        vertical-align: top;\n",
       "    }\n",
       "\n",
       "    .dataframe thead th {\n",
       "        text-align: right;\n",
       "    }\n",
       "</style>\n",
       "<table border=\"1\" class=\"dataframe\">\n",
       "  <thead>\n",
       "    <tr style=\"text-align: right;\">\n",
       "      <th></th>\n",
       "      <th>Close</th>\n",
       "    </tr>\n",
       "  </thead>\n",
       "  <tbody>\n",
       "    <tr>\n",
       "      <th>0</th>\n",
       "      <td>273.3600</td>\n",
       "    </tr>\n",
       "    <tr>\n",
       "      <th>1</th>\n",
       "      <td>273.5200</td>\n",
       "    </tr>\n",
       "    <tr>\n",
       "      <th>2</th>\n",
       "      <td>292.6500</td>\n",
       "    </tr>\n",
       "    <tr>\n",
       "      <th>3</th>\n",
       "      <td>288.0800</td>\n",
       "    </tr>\n",
       "    <tr>\n",
       "      <th>4</th>\n",
       "      <td>298.1800</td>\n",
       "    </tr>\n",
       "    <tr>\n",
       "      <th>...</th>\n",
       "      <td>...</td>\n",
       "    </tr>\n",
       "    <tr>\n",
       "      <th>2513</th>\n",
       "      <td>31.2786</td>\n",
       "    </tr>\n",
       "    <tr>\n",
       "      <th>2514</th>\n",
       "      <td>30.1014</td>\n",
       "    </tr>\n",
       "    <tr>\n",
       "      <th>2515</th>\n",
       "      <td>29.9043</td>\n",
       "    </tr>\n",
       "    <tr>\n",
       "      <th>2516</th>\n",
       "      <td>29.8357</td>\n",
       "    </tr>\n",
       "    <tr>\n",
       "      <th>2517</th>\n",
       "      <td>29.8557</td>\n",
       "    </tr>\n",
       "  </tbody>\n",
       "</table>\n",
       "<p>2518 rows × 1 columns</p>\n",
       "</div>"
      ],
      "text/plain": [
       "         Close\n",
       "0     273.3600\n",
       "1     273.5200\n",
       "2     292.6500\n",
       "3     288.0800\n",
       "4     298.1800\n",
       "...        ...\n",
       "2513   31.2786\n",
       "2514   30.1014\n",
       "2515   29.9043\n",
       "2516   29.8357\n",
       "2517   29.8557\n",
       "\n",
       "[2518 rows x 1 columns]"
      ]
     },
     "execution_count": 124,
     "metadata": {},
     "output_type": "execute_result"
    }
   ],
   "source": [
    "close_df"
   ]
  },
  {
   "cell_type": "code",
   "execution_count": 125,
   "metadata": {},
   "outputs": [
    {
     "data": {
      "text/plain": [
       "(2518, 1)"
      ]
     },
     "execution_count": 125,
     "metadata": {},
     "output_type": "execute_result"
    }
   ],
   "source": [
    "# normalizing using MinMax Scaler\n",
    "\n",
    "scaler = MinMaxScaler()\n",
    "\n",
    "close_price = close_df.Close.values.reshape(-1, 1)\n",
    "scaled_close = scaler.fit_transform(close_price)\n",
    "scaled_close.shape"
   ]
  },
  {
   "cell_type": "code",
   "execution_count": 126,
   "metadata": {},
   "outputs": [
    {
     "name": "stdout",
     "output_type": "stream",
     "text": [
      "Train data:  (1510, 1)\n",
      "Test data:  (1008, 1)\n"
     ]
    }
   ],
   "source": [
    "# Determine the split point as a percentage (e.g., 60% training, 40% testing)\n",
    "\n",
    "split_percentage = 0.6\n",
    "split_index = int(split_percentage * len(scaled_close))\n",
    "train_data, test_data = scaled_close[0:split_index], scaled_close[split_index:len(scaled_close)]\n",
    "\n",
    "print(\"Train data: \", train_data.shape)\n",
    "print(\"Test data: \", test_data.shape)"
   ]
  },
  {
   "cell_type": "code",
   "execution_count": 127,
   "metadata": {},
   "outputs": [],
   "source": [
    "# convert an array of values into a dataset matrix\n",
    "\n",
    "def create_dataset(dataset, time_step):\n",
    "    dataX, dataY = [], []\n",
    "    for i in range(len(dataset)-time_step-1):\n",
    "        a = dataset[i:(i+time_step), 0]   ###i=0, 0,1,2,3-----99   100 \n",
    "        dataX.append(a)\n",
    "        dataY.append(dataset[i + time_step, 0])\n",
    "    return np.array(dataX), np.array(dataY)"
   ]
  },
  {
   "cell_type": "code",
   "execution_count": 128,
   "metadata": {},
   "outputs": [
    {
     "name": "stdout",
     "output_type": "stream",
     "text": [
      "X_train:  (1494, 15)\n",
      "y_train:  (1494,)\n",
      "X_test:  (992, 15)\n",
      "y_test (992,)\n"
     ]
    }
   ],
   "source": [
    "time_step = 15\n",
    "X_train, y_train = create_dataset(train_data, time_step)\n",
    "X_test, y_test = create_dataset(test_data, time_step)\n",
    "\n",
    "print(\"X_train: \", X_train.shape)\n",
    "print(\"y_train: \", y_train.shape)\n",
    "print(\"X_test: \", X_test.shape)\n",
    "print(\"y_test\", y_test.shape)"
   ]
  },
  {
   "cell_type": "code",
   "execution_count": 129,
   "metadata": {},
   "outputs": [
    {
     "name": "stdout",
     "output_type": "stream",
     "text": [
      "X_train:  (1494, 15, 1)\n",
      "X_test:  (992, 15, 1)\n"
     ]
    }
   ],
   "source": [
    "# reshape input to be [samples, time steps, features] which is required for LSTM\n",
    "\n",
    "X_train =X_train.reshape(X_train.shape[0],X_train.shape[1] , 1)\n",
    "X_test = X_test.reshape(X_test.shape[0],X_test.shape[1] , 1)\n",
    "\n",
    "print(\"X_train: \", X_train.shape)\n",
    "print(\"X_test: \", X_test.shape)"
   ]
  },
  {
   "cell_type": "markdown",
   "metadata": {},
   "source": [
    "### <i>LSTM Model</i>"
   ]
  },
  {
   "cell_type": "code",
   "execution_count": 130,
   "metadata": {},
   "outputs": [],
   "source": [
    "model=Sequential()\n",
    "\n",
    "model.add(LSTM(10,input_shape=(None,1),activation=\"relu\"))\n",
    "model.add(Dense(1))\n",
    "model.compile(loss=\"mean_squared_error\",optimizer=\"adam\")"
   ]
  },
  {
   "cell_type": "code",
   "execution_count": 131,
   "metadata": {},
   "outputs": [
    {
     "name": "stdout",
     "output_type": "stream",
     "text": [
      "Epoch 1/200\n"
     ]
    },
    {
     "name": "stdout",
     "output_type": "stream",
     "text": [
      "47/47 [==============================] - 2s 11ms/step - loss: 0.0967 - val_loss: 0.0108\n",
      "Epoch 2/200\n",
      "47/47 [==============================] - 0s 7ms/step - loss: 0.0038 - val_loss: 0.0026\n",
      "Epoch 3/200\n",
      "47/47 [==============================] - 0s 7ms/step - loss: 3.3977e-04 - val_loss: 3.7648e-04\n",
      "Epoch 4/200\n",
      "47/47 [==============================] - 0s 7ms/step - loss: 2.5951e-04 - val_loss: 3.6860e-04\n",
      "Epoch 5/200\n",
      "47/47 [==============================] - 0s 7ms/step - loss: 2.4263e-04 - val_loss: 2.3701e-04\n",
      "Epoch 6/200\n",
      "47/47 [==============================] - 0s 7ms/step - loss: 2.4512e-04 - val_loss: 1.8689e-04\n",
      "Epoch 7/200\n",
      "47/47 [==============================] - 0s 7ms/step - loss: 2.3733e-04 - val_loss: 1.4196e-04\n",
      "Epoch 8/200\n",
      "47/47 [==============================] - 0s 7ms/step - loss: 2.3236e-04 - val_loss: 2.0329e-04\n",
      "Epoch 9/200\n",
      "47/47 [==============================] - 0s 7ms/step - loss: 2.2980e-04 - val_loss: 1.1257e-04\n",
      "Epoch 10/200\n",
      "47/47 [==============================] - 0s 7ms/step - loss: 2.2748e-04 - val_loss: 1.5005e-04\n",
      "Epoch 11/200\n",
      "47/47 [==============================] - 0s 7ms/step - loss: 2.1998e-04 - val_loss: 1.4032e-04\n",
      "Epoch 12/200\n",
      "47/47 [==============================] - 0s 7ms/step - loss: 2.1978e-04 - val_loss: 1.1337e-04\n",
      "Epoch 13/200\n",
      "47/47 [==============================] - 0s 7ms/step - loss: 2.0915e-04 - val_loss: 1.9117e-04\n",
      "Epoch 14/200\n",
      "47/47 [==============================] - 0s 7ms/step - loss: 2.0809e-04 - val_loss: 1.8723e-04\n",
      "Epoch 15/200\n",
      "47/47 [==============================] - 0s 7ms/step - loss: 2.0657e-04 - val_loss: 1.3948e-04\n",
      "Epoch 16/200\n",
      "47/47 [==============================] - 0s 7ms/step - loss: 2.0575e-04 - val_loss: 1.0974e-04\n",
      "Epoch 17/200\n",
      "47/47 [==============================] - 0s 7ms/step - loss: 1.9122e-04 - val_loss: 1.3591e-04\n",
      "Epoch 18/200\n",
      "47/47 [==============================] - 0s 7ms/step - loss: 1.9001e-04 - val_loss: 9.4434e-05\n",
      "Epoch 19/200\n",
      "47/47 [==============================] - 0s 7ms/step - loss: 1.8253e-04 - val_loss: 1.3342e-04\n",
      "Epoch 20/200\n",
      "47/47 [==============================] - 0s 7ms/step - loss: 1.8476e-04 - val_loss: 1.3508e-04\n",
      "Epoch 21/200\n",
      "47/47 [==============================] - 0s 7ms/step - loss: 1.7695e-04 - val_loss: 1.0018e-04\n",
      "Epoch 22/200\n",
      "47/47 [==============================] - 0s 7ms/step - loss: 1.7971e-04 - val_loss: 9.9468e-05\n",
      "Epoch 23/200\n",
      "47/47 [==============================] - 0s 7ms/step - loss: 1.7395e-04 - val_loss: 6.0538e-05\n",
      "Epoch 24/200\n",
      "47/47 [==============================] - 0s 7ms/step - loss: 1.7286e-04 - val_loss: 9.1218e-05\n",
      "Epoch 25/200\n",
      "47/47 [==============================] - 0s 8ms/step - loss: 1.7600e-04 - val_loss: 6.4655e-05\n",
      "Epoch 26/200\n",
      "47/47 [==============================] - 0s 7ms/step - loss: 1.6387e-04 - val_loss: 8.5028e-05\n",
      "Epoch 27/200\n",
      "47/47 [==============================] - 0s 8ms/step - loss: 1.6327e-04 - val_loss: 7.0192e-05\n",
      "Epoch 28/200\n",
      "47/47 [==============================] - 0s 8ms/step - loss: 1.7072e-04 - val_loss: 1.3375e-04\n",
      "Epoch 29/200\n",
      "47/47 [==============================] - 0s 7ms/step - loss: 1.7894e-04 - val_loss: 5.9584e-05\n",
      "Epoch 30/200\n",
      "47/47 [==============================] - 0s 7ms/step - loss: 1.5733e-04 - val_loss: 1.0347e-04\n",
      "Epoch 31/200\n",
      "47/47 [==============================] - 0s 8ms/step - loss: 1.5837e-04 - val_loss: 6.4437e-05\n",
      "Epoch 32/200\n",
      "47/47 [==============================] - 0s 7ms/step - loss: 1.5299e-04 - val_loss: 6.6686e-05\n",
      "Epoch 33/200\n",
      "47/47 [==============================] - 0s 7ms/step - loss: 1.6157e-04 - val_loss: 5.1335e-05\n",
      "Epoch 34/200\n",
      "47/47 [==============================] - 0s 7ms/step - loss: 1.6761e-04 - val_loss: 6.7580e-05\n",
      "Epoch 35/200\n",
      "47/47 [==============================] - 0s 8ms/step - loss: 1.4851e-04 - val_loss: 4.9813e-05\n",
      "Epoch 36/200\n",
      "47/47 [==============================] - 0s 7ms/step - loss: 1.4433e-04 - val_loss: 6.4428e-05\n",
      "Epoch 37/200\n",
      "47/47 [==============================] - 0s 7ms/step - loss: 1.4922e-04 - val_loss: 6.8561e-05\n",
      "Epoch 38/200\n",
      "47/47 [==============================] - 0s 7ms/step - loss: 1.4416e-04 - val_loss: 5.6992e-05\n",
      "Epoch 39/200\n",
      "47/47 [==============================] - 0s 7ms/step - loss: 1.5766e-04 - val_loss: 6.5690e-05\n",
      "Epoch 40/200\n",
      "47/47 [==============================] - 0s 7ms/step - loss: 1.4082e-04 - val_loss: 6.1193e-05\n",
      "Epoch 41/200\n",
      "47/47 [==============================] - 0s 7ms/step - loss: 1.4787e-04 - val_loss: 4.6149e-05\n",
      "Epoch 42/200\n",
      "47/47 [==============================] - 0s 7ms/step - loss: 1.4022e-04 - val_loss: 6.4904e-05\n",
      "Epoch 43/200\n",
      "47/47 [==============================] - 0s 8ms/step - loss: 1.5613e-04 - val_loss: 4.6799e-05\n",
      "Epoch 44/200\n",
      "47/47 [==============================] - 0s 7ms/step - loss: 1.4589e-04 - val_loss: 7.4103e-05\n",
      "Epoch 45/200\n",
      "47/47 [==============================] - 0s 7ms/step - loss: 1.5148e-04 - val_loss: 5.2899e-05\n",
      "Epoch 46/200\n",
      "47/47 [==============================] - 0s 7ms/step - loss: 1.4045e-04 - val_loss: 5.1669e-05\n",
      "Epoch 47/200\n",
      "47/47 [==============================] - 0s 8ms/step - loss: 1.3693e-04 - val_loss: 6.1353e-05\n",
      "Epoch 48/200\n",
      "47/47 [==============================] - 0s 8ms/step - loss: 1.3347e-04 - val_loss: 6.6672e-05\n",
      "Epoch 49/200\n",
      "47/47 [==============================] - 0s 7ms/step - loss: 1.3558e-04 - val_loss: 4.9207e-05\n",
      "Epoch 50/200\n",
      "47/47 [==============================] - 0s 7ms/step - loss: 1.3426e-04 - val_loss: 8.0019e-05\n",
      "Epoch 51/200\n",
      "47/47 [==============================] - 0s 8ms/step - loss: 1.3502e-04 - val_loss: 9.2992e-05\n",
      "Epoch 52/200\n",
      "47/47 [==============================] - 0s 7ms/step - loss: 1.5014e-04 - val_loss: 5.2378e-05\n",
      "Epoch 53/200\n",
      "47/47 [==============================] - 0s 8ms/step - loss: 1.3220e-04 - val_loss: 6.6082e-05\n",
      "Epoch 54/200\n",
      "47/47 [==============================] - 0s 7ms/step - loss: 1.3867e-04 - val_loss: 5.9837e-05\n",
      "Epoch 55/200\n",
      "47/47 [==============================] - 0s 7ms/step - loss: 1.3745e-04 - val_loss: 6.3568e-05\n",
      "Epoch 56/200\n",
      "47/47 [==============================] - 0s 7ms/step - loss: 1.4336e-04 - val_loss: 5.5780e-05\n",
      "Epoch 57/200\n",
      "47/47 [==============================] - 0s 8ms/step - loss: 1.5849e-04 - val_loss: 1.0807e-04\n",
      "Epoch 58/200\n",
      "47/47 [==============================] - 0s 7ms/step - loss: 1.3165e-04 - val_loss: 7.0239e-05\n",
      "Epoch 59/200\n",
      "47/47 [==============================] - 0s 8ms/step - loss: 1.2739e-04 - val_loss: 8.3828e-05\n",
      "Epoch 60/200\n",
      "47/47 [==============================] - 0s 8ms/step - loss: 1.3249e-04 - val_loss: 8.3746e-05\n",
      "Epoch 61/200\n",
      "47/47 [==============================] - 0s 7ms/step - loss: 1.3405e-04 - val_loss: 7.7195e-05\n",
      "Epoch 62/200\n",
      "47/47 [==============================] - 0s 7ms/step - loss: 1.2518e-04 - val_loss: 9.2859e-05\n",
      "Epoch 63/200\n",
      "47/47 [==============================] - 0s 7ms/step - loss: 1.2860e-04 - val_loss: 7.5677e-05\n",
      "Epoch 64/200\n",
      "47/47 [==============================] - 0s 7ms/step - loss: 1.2691e-04 - val_loss: 9.3553e-05\n",
      "Epoch 65/200\n",
      "47/47 [==============================] - 0s 7ms/step - loss: 1.5113e-04 - val_loss: 1.0292e-04\n",
      "Epoch 66/200\n",
      "47/47 [==============================] - 0s 7ms/step - loss: 1.2897e-04 - val_loss: 9.2230e-05\n",
      "Epoch 67/200\n",
      "47/47 [==============================] - 0s 8ms/step - loss: 1.2208e-04 - val_loss: 1.0838e-04\n",
      "Epoch 68/200\n",
      "47/47 [==============================] - 0s 7ms/step - loss: 1.2831e-04 - val_loss: 9.6442e-05\n",
      "Epoch 69/200\n",
      "47/47 [==============================] - 0s 7ms/step - loss: 1.2097e-04 - val_loss: 1.0056e-04\n",
      "Epoch 70/200\n",
      "47/47 [==============================] - 0s 8ms/step - loss: 1.1901e-04 - val_loss: 9.1847e-05\n",
      "Epoch 71/200\n",
      "47/47 [==============================] - 0s 7ms/step - loss: 1.2428e-04 - val_loss: 6.9831e-05\n",
      "Epoch 72/200\n",
      "47/47 [==============================] - 0s 8ms/step - loss: 1.2195e-04 - val_loss: 1.0415e-04\n",
      "Epoch 73/200\n",
      "47/47 [==============================] - 0s 7ms/step - loss: 1.1726e-04 - val_loss: 1.0517e-04\n",
      "Epoch 74/200\n",
      "47/47 [==============================] - 0s 8ms/step - loss: 1.2363e-04 - val_loss: 9.0391e-05\n",
      "Epoch 75/200\n",
      "47/47 [==============================] - 0s 8ms/step - loss: 1.1689e-04 - val_loss: 1.1555e-04\n",
      "Epoch 76/200\n",
      "47/47 [==============================] - 0s 7ms/step - loss: 1.1962e-04 - val_loss: 1.1353e-04\n",
      "Epoch 77/200\n",
      "47/47 [==============================] - 0s 8ms/step - loss: 1.2260e-04 - val_loss: 9.5565e-05\n",
      "Epoch 78/200\n",
      "47/47 [==============================] - 0s 7ms/step - loss: 1.1531e-04 - val_loss: 1.0290e-04\n",
      "Epoch 79/200\n",
      "47/47 [==============================] - 0s 7ms/step - loss: 1.2183e-04 - val_loss: 1.2791e-04\n",
      "Epoch 80/200\n",
      "47/47 [==============================] - 0s 7ms/step - loss: 1.1669e-04 - val_loss: 8.2914e-05\n",
      "Epoch 81/200\n",
      "47/47 [==============================] - 0s 8ms/step - loss: 1.1119e-04 - val_loss: 9.4397e-05\n",
      "Epoch 82/200\n",
      "47/47 [==============================] - 0s 7ms/step - loss: 1.1309e-04 - val_loss: 9.9217e-05\n",
      "Epoch 83/200\n",
      "47/47 [==============================] - 0s 7ms/step - loss: 1.3660e-04 - val_loss: 2.1652e-04\n",
      "Epoch 84/200\n",
      "47/47 [==============================] - 0s 8ms/step - loss: 1.1370e-04 - val_loss: 1.2768e-04\n",
      "Epoch 85/200\n",
      "47/47 [==============================] - 0s 7ms/step - loss: 1.1047e-04 - val_loss: 9.6443e-05\n",
      "Epoch 86/200\n",
      "47/47 [==============================] - 0s 8ms/step - loss: 1.1229e-04 - val_loss: 7.1531e-05\n",
      "Epoch 87/200\n",
      "47/47 [==============================] - 0s 7ms/step - loss: 1.2412e-04 - val_loss: 1.0894e-04\n",
      "Epoch 88/200\n",
      "47/47 [==============================] - 0s 8ms/step - loss: 1.1394e-04 - val_loss: 8.7650e-05\n",
      "Epoch 89/200\n",
      "47/47 [==============================] - 0s 7ms/step - loss: 1.1840e-04 - val_loss: 9.2300e-05\n",
      "Epoch 90/200\n",
      "47/47 [==============================] - 0s 8ms/step - loss: 1.1192e-04 - val_loss: 9.0334e-05\n",
      "Epoch 91/200\n",
      "47/47 [==============================] - 0s 7ms/step - loss: 1.1558e-04 - val_loss: 9.3018e-05\n",
      "Epoch 92/200\n",
      "47/47 [==============================] - 0s 7ms/step - loss: 1.1142e-04 - val_loss: 6.7828e-05\n",
      "Epoch 93/200\n",
      "47/47 [==============================] - 0s 7ms/step - loss: 1.1248e-04 - val_loss: 1.7389e-04\n",
      "Epoch 94/200\n",
      "47/47 [==============================] - 0s 7ms/step - loss: 1.1897e-04 - val_loss: 1.8327e-04\n",
      "Epoch 95/200\n",
      "47/47 [==============================] - 0s 7ms/step - loss: 1.0968e-04 - val_loss: 1.2847e-04\n",
      "Epoch 96/200\n",
      "47/47 [==============================] - 0s 8ms/step - loss: 1.1123e-04 - val_loss: 1.0160e-04\n",
      "Epoch 97/200\n",
      "47/47 [==============================] - 0s 7ms/step - loss: 1.1079e-04 - val_loss: 1.0508e-04\n",
      "Epoch 98/200\n",
      "47/47 [==============================] - 0s 7ms/step - loss: 1.0752e-04 - val_loss: 1.2493e-04\n",
      "Epoch 99/200\n",
      "47/47 [==============================] - 0s 7ms/step - loss: 1.0905e-04 - val_loss: 1.0444e-04\n",
      "Epoch 100/200\n",
      "47/47 [==============================] - 0s 7ms/step - loss: 1.2240e-04 - val_loss: 1.3402e-04\n",
      "Epoch 101/200\n",
      "47/47 [==============================] - 0s 7ms/step - loss: 1.1254e-04 - val_loss: 1.0770e-04\n",
      "Epoch 102/200\n",
      "47/47 [==============================] - 0s 7ms/step - loss: 1.0417e-04 - val_loss: 6.5276e-05\n",
      "Epoch 103/200\n",
      "47/47 [==============================] - 0s 7ms/step - loss: 1.2069e-04 - val_loss: 8.2790e-05\n",
      "Epoch 104/200\n",
      "47/47 [==============================] - 0s 8ms/step - loss: 1.0441e-04 - val_loss: 8.7391e-05\n",
      "Epoch 105/200\n",
      "47/47 [==============================] - 0s 7ms/step - loss: 1.1328e-04 - val_loss: 8.6007e-05\n",
      "Epoch 106/200\n",
      "47/47 [==============================] - 0s 8ms/step - loss: 1.1428e-04 - val_loss: 1.9589e-04\n",
      "Epoch 107/200\n",
      "47/47 [==============================] - 0s 7ms/step - loss: 1.0760e-04 - val_loss: 9.6819e-05\n",
      "Epoch 108/200\n",
      "47/47 [==============================] - 0s 7ms/step - loss: 1.0441e-04 - val_loss: 8.0726e-05\n",
      "Epoch 109/200\n",
      "47/47 [==============================] - 0s 7ms/step - loss: 1.0320e-04 - val_loss: 9.0175e-05\n",
      "Epoch 110/200\n",
      "47/47 [==============================] - 0s 7ms/step - loss: 1.0556e-04 - val_loss: 1.0355e-04\n",
      "Epoch 111/200\n",
      "47/47 [==============================] - 0s 7ms/step - loss: 9.7002e-05 - val_loss: 8.5904e-05\n",
      "Epoch 112/200\n",
      "47/47 [==============================] - 0s 7ms/step - loss: 1.0626e-04 - val_loss: 1.3030e-04\n",
      "Epoch 113/200\n",
      "47/47 [==============================] - 0s 7ms/step - loss: 1.0873e-04 - val_loss: 5.2594e-05\n",
      "Epoch 114/200\n",
      "47/47 [==============================] - 0s 7ms/step - loss: 9.9361e-05 - val_loss: 9.3507e-05\n",
      "Epoch 115/200\n",
      "47/47 [==============================] - 0s 8ms/step - loss: 9.7071e-05 - val_loss: 1.1462e-04\n",
      "Epoch 116/200\n",
      "47/47 [==============================] - 0s 8ms/step - loss: 1.0670e-04 - val_loss: 8.5442e-05\n",
      "Epoch 117/200\n",
      "47/47 [==============================] - 0s 7ms/step - loss: 9.7857e-05 - val_loss: 6.4208e-05\n",
      "Epoch 118/200\n",
      "47/47 [==============================] - 0s 7ms/step - loss: 9.6148e-05 - val_loss: 8.7372e-05\n",
      "Epoch 119/200\n",
      "47/47 [==============================] - 0s 8ms/step - loss: 1.0273e-04 - val_loss: 6.4612e-05\n",
      "Epoch 120/200\n",
      "47/47 [==============================] - 0s 8ms/step - loss: 9.3551e-05 - val_loss: 8.4805e-05\n",
      "Epoch 121/200\n",
      "47/47 [==============================] - 0s 8ms/step - loss: 1.0234e-04 - val_loss: 6.3942e-05\n",
      "Epoch 122/200\n",
      "47/47 [==============================] - 0s 7ms/step - loss: 9.7301e-05 - val_loss: 5.1270e-05\n",
      "Epoch 123/200\n",
      "47/47 [==============================] - 0s 7ms/step - loss: 9.3583e-05 - val_loss: 4.8538e-05\n",
      "Epoch 124/200\n",
      "47/47 [==============================] - 0s 7ms/step - loss: 1.0685e-04 - val_loss: 6.1082e-05\n",
      "Epoch 125/200\n",
      "47/47 [==============================] - 0s 8ms/step - loss: 9.4403e-05 - val_loss: 7.5488e-05\n",
      "Epoch 126/200\n",
      "47/47 [==============================] - 0s 8ms/step - loss: 9.4494e-05 - val_loss: 4.9046e-05\n",
      "Epoch 127/200\n",
      "47/47 [==============================] - 0s 8ms/step - loss: 9.2583e-05 - val_loss: 7.2036e-05\n",
      "Epoch 128/200\n",
      "47/47 [==============================] - 0s 7ms/step - loss: 9.4556e-05 - val_loss: 3.7507e-05\n",
      "Epoch 129/200\n",
      "47/47 [==============================] - 0s 7ms/step - loss: 1.0026e-04 - val_loss: 8.9941e-05\n",
      "Epoch 130/200\n",
      "47/47 [==============================] - 0s 8ms/step - loss: 9.9085e-05 - val_loss: 5.0444e-05\n",
      "Epoch 131/200\n",
      "47/47 [==============================] - 0s 7ms/step - loss: 9.1564e-05 - val_loss: 5.9748e-05\n",
      "Epoch 132/200\n",
      "47/47 [==============================] - 0s 7ms/step - loss: 9.3245e-05 - val_loss: 4.8206e-05\n",
      "Epoch 133/200\n",
      "47/47 [==============================] - 0s 7ms/step - loss: 9.1748e-05 - val_loss: 9.0634e-05\n",
      "Epoch 134/200\n",
      "47/47 [==============================] - 0s 7ms/step - loss: 8.8595e-05 - val_loss: 3.4830e-05\n",
      "Epoch 135/200\n",
      "47/47 [==============================] - 0s 7ms/step - loss: 1.0466e-04 - val_loss: 6.7573e-05\n",
      "Epoch 136/200\n",
      "47/47 [==============================] - 0s 8ms/step - loss: 1.0223e-04 - val_loss: 3.9942e-05\n",
      "Epoch 137/200\n",
      "47/47 [==============================] - 0s 7ms/step - loss: 1.0085e-04 - val_loss: 3.6907e-05\n",
      "Epoch 138/200\n",
      "47/47 [==============================] - 0s 7ms/step - loss: 9.3365e-05 - val_loss: 4.7169e-05\n",
      "Epoch 139/200\n",
      "47/47 [==============================] - 0s 7ms/step - loss: 9.8731e-05 - val_loss: 7.3680e-05\n",
      "Epoch 140/200\n",
      "47/47 [==============================] - 0s 7ms/step - loss: 8.8842e-05 - val_loss: 5.3131e-05\n",
      "Epoch 141/200\n",
      "47/47 [==============================] - 0s 7ms/step - loss: 8.9718e-05 - val_loss: 3.8674e-05\n",
      "Epoch 142/200\n",
      "47/47 [==============================] - 0s 8ms/step - loss: 8.8761e-05 - val_loss: 5.2945e-05\n",
      "Epoch 143/200\n",
      "47/47 [==============================] - 0s 8ms/step - loss: 8.9792e-05 - val_loss: 3.9103e-05\n",
      "Epoch 144/200\n",
      "47/47 [==============================] - 0s 7ms/step - loss: 9.2412e-05 - val_loss: 5.7868e-05\n",
      "Epoch 145/200\n",
      "47/47 [==============================] - 0s 7ms/step - loss: 9.0518e-05 - val_loss: 3.8660e-05\n",
      "Epoch 146/200\n",
      "47/47 [==============================] - 0s 7ms/step - loss: 9.3336e-05 - val_loss: 3.3214e-05\n",
      "Epoch 147/200\n",
      "47/47 [==============================] - 0s 7ms/step - loss: 9.1916e-05 - val_loss: 5.8565e-05\n",
      "Epoch 148/200\n",
      "47/47 [==============================] - 0s 7ms/step - loss: 8.6167e-05 - val_loss: 6.8098e-05\n",
      "Epoch 149/200\n",
      "47/47 [==============================] - 0s 7ms/step - loss: 9.6379e-05 - val_loss: 5.6886e-05\n",
      "Epoch 150/200\n",
      "47/47 [==============================] - 0s 8ms/step - loss: 8.7721e-05 - val_loss: 4.0619e-05\n",
      "Epoch 151/200\n",
      "47/47 [==============================] - 0s 8ms/step - loss: 9.4975e-05 - val_loss: 8.1825e-05\n",
      "Epoch 152/200\n",
      "47/47 [==============================] - 0s 8ms/step - loss: 9.8792e-05 - val_loss: 4.8514e-05\n",
      "Epoch 153/200\n",
      "47/47 [==============================] - 0s 7ms/step - loss: 8.7878e-05 - val_loss: 3.0639e-05\n",
      "Epoch 154/200\n",
      "47/47 [==============================] - 0s 8ms/step - loss: 8.7715e-05 - val_loss: 4.9547e-05\n",
      "Epoch 155/200\n",
      "47/47 [==============================] - 0s 8ms/step - loss: 8.8194e-05 - val_loss: 3.1430e-05\n",
      "Epoch 156/200\n",
      "47/47 [==============================] - 0s 7ms/step - loss: 8.2085e-05 - val_loss: 4.1787e-05\n",
      "Epoch 157/200\n",
      "47/47 [==============================] - 0s 7ms/step - loss: 8.8596e-05 - val_loss: 3.6708e-05\n",
      "Epoch 158/200\n",
      "47/47 [==============================] - 0s 8ms/step - loss: 8.9250e-05 - val_loss: 2.6885e-05\n",
      "Epoch 159/200\n",
      "47/47 [==============================] - 0s 7ms/step - loss: 8.7621e-05 - val_loss: 3.9889e-05\n",
      "Epoch 160/200\n",
      "47/47 [==============================] - 0s 7ms/step - loss: 8.3750e-05 - val_loss: 2.7449e-05\n",
      "Epoch 161/200\n",
      "47/47 [==============================] - 0s 7ms/step - loss: 8.4769e-05 - val_loss: 3.3013e-05\n",
      "Epoch 162/200\n",
      "47/47 [==============================] - 0s 8ms/step - loss: 8.5701e-05 - val_loss: 2.9069e-05\n",
      "Epoch 163/200\n",
      "47/47 [==============================] - 0s 7ms/step - loss: 9.3504e-05 - val_loss: 2.4697e-05\n",
      "Epoch 164/200\n",
      "47/47 [==============================] - 0s 7ms/step - loss: 8.7730e-05 - val_loss: 5.0617e-05\n",
      "Epoch 165/200\n",
      "47/47 [==============================] - 0s 7ms/step - loss: 9.1335e-05 - val_loss: 2.5631e-05\n",
      "Epoch 166/200\n",
      "47/47 [==============================] - 0s 7ms/step - loss: 8.7177e-05 - val_loss: 3.8793e-05\n",
      "Epoch 167/200\n",
      "47/47 [==============================] - 0s 8ms/step - loss: 8.6641e-05 - val_loss: 2.5308e-05\n",
      "Epoch 168/200\n",
      "47/47 [==============================] - 0s 7ms/step - loss: 8.8279e-05 - val_loss: 3.2621e-05\n",
      "Epoch 169/200\n",
      "47/47 [==============================] - 0s 8ms/step - loss: 9.8389e-05 - val_loss: 5.9863e-05\n",
      "Epoch 170/200\n",
      "47/47 [==============================] - 0s 7ms/step - loss: 8.7189e-05 - val_loss: 2.4475e-05\n",
      "Epoch 171/200\n",
      "47/47 [==============================] - 0s 7ms/step - loss: 8.7271e-05 - val_loss: 2.4367e-05\n",
      "Epoch 172/200\n",
      "47/47 [==============================] - 0s 8ms/step - loss: 8.0646e-05 - val_loss: 2.8080e-05\n",
      "Epoch 173/200\n",
      "47/47 [==============================] - 0s 8ms/step - loss: 8.4853e-05 - val_loss: 2.3534e-05\n",
      "Epoch 174/200\n",
      "47/47 [==============================] - 0s 7ms/step - loss: 8.5828e-05 - val_loss: 2.6913e-05\n",
      "Epoch 175/200\n",
      "47/47 [==============================] - 0s 7ms/step - loss: 8.2973e-05 - val_loss: 2.4768e-05\n",
      "Epoch 176/200\n",
      "47/47 [==============================] - 0s 7ms/step - loss: 8.3573e-05 - val_loss: 3.7389e-05\n",
      "Epoch 177/200\n",
      "47/47 [==============================] - 0s 7ms/step - loss: 8.4406e-05 - val_loss: 3.3181e-05\n",
      "Epoch 178/200\n",
      "47/47 [==============================] - 0s 7ms/step - loss: 8.2835e-05 - val_loss: 2.5496e-05\n",
      "Epoch 179/200\n",
      "47/47 [==============================] - 0s 7ms/step - loss: 8.2645e-05 - val_loss: 2.5216e-05\n",
      "Epoch 180/200\n",
      "47/47 [==============================] - 0s 8ms/step - loss: 8.7891e-05 - val_loss: 2.4541e-05\n",
      "Epoch 181/200\n",
      "47/47 [==============================] - 0s 7ms/step - loss: 8.1506e-05 - val_loss: 2.7443e-05\n",
      "Epoch 182/200\n",
      "47/47 [==============================] - 0s 7ms/step - loss: 7.8475e-05 - val_loss: 2.3768e-05\n",
      "Epoch 183/200\n",
      "47/47 [==============================] - 0s 7ms/step - loss: 8.5098e-05 - val_loss: 2.2978e-05\n",
      "Epoch 184/200\n",
      "47/47 [==============================] - 0s 7ms/step - loss: 8.4079e-05 - val_loss: 2.3917e-05\n",
      "Epoch 185/200\n",
      "47/47 [==============================] - 0s 8ms/step - loss: 7.7330e-05 - val_loss: 2.5047e-05\n",
      "Epoch 186/200\n",
      "47/47 [==============================] - 0s 8ms/step - loss: 8.3387e-05 - val_loss: 2.1353e-05\n",
      "Epoch 187/200\n",
      "47/47 [==============================] - 0s 7ms/step - loss: 7.7225e-05 - val_loss: 4.5133e-05\n",
      "Epoch 188/200\n",
      "47/47 [==============================] - 0s 7ms/step - loss: 7.9504e-05 - val_loss: 2.2543e-05\n",
      "Epoch 189/200\n",
      "47/47 [==============================] - 0s 8ms/step - loss: 7.7524e-05 - val_loss: 2.2643e-05\n",
      "Epoch 190/200\n",
      "47/47 [==============================] - 0s 8ms/step - loss: 7.7998e-05 - val_loss: 2.9313e-05\n",
      "Epoch 191/200\n",
      "47/47 [==============================] - 0s 8ms/step - loss: 8.5331e-05 - val_loss: 3.3852e-05\n",
      "Epoch 192/200\n",
      "47/47 [==============================] - 0s 7ms/step - loss: 9.0004e-05 - val_loss: 3.3776e-05\n",
      "Epoch 193/200\n",
      "47/47 [==============================] - 0s 7ms/step - loss: 7.8662e-05 - val_loss: 2.3637e-05\n",
      "Epoch 194/200\n",
      "47/47 [==============================] - 0s 7ms/step - loss: 8.5777e-05 - val_loss: 3.4807e-05\n",
      "Epoch 195/200\n",
      "47/47 [==============================] - 0s 7ms/step - loss: 8.4055e-05 - val_loss: 3.8193e-05\n",
      "Epoch 196/200\n",
      "47/47 [==============================] - 0s 8ms/step - loss: 7.7621e-05 - val_loss: 2.0938e-05\n",
      "Epoch 197/200\n",
      "47/47 [==============================] - 0s 7ms/step - loss: 8.5411e-05 - val_loss: 2.7294e-05\n",
      "Epoch 198/200\n",
      "47/47 [==============================] - 0s 8ms/step - loss: 8.1505e-05 - val_loss: 2.0949e-05\n",
      "Epoch 199/200\n",
      "47/47 [==============================] - 0s 8ms/step - loss: 8.3757e-05 - val_loss: 3.1770e-05\n",
      "Epoch 200/200\n",
      "47/47 [==============================] - 0s 7ms/step - loss: 8.1239e-05 - val_loss: 2.1003e-05\n"
     ]
    }
   ],
   "source": [
    "history = model.fit(X_train,y_train,validation_data=(X_test,y_test),epochs=200,batch_size=32,verbose=1)"
   ]
  },
  {
   "cell_type": "markdown",
   "metadata": {},
   "source": [
    "### <i>Model Evaluation</i>"
   ]
  },
  {
   "cell_type": "code",
   "execution_count": 132,
   "metadata": {},
   "outputs": [
    {
     "data": {
      "image/png": "[encoded data removed]",
      "text/plain": [
       "<Figure size 576x432 with 1 Axes>"
      ]
     },
     "metadata": {
      "needs_background": "light"
     },
     "output_type": "display_data"
    }
   ],
   "source": [
    "loss = history.history['loss']\n",
    "val_loss = history.history['val_loss']\n",
    "\n",
    "epochs = range(len(loss))\n",
    "\n",
    "plt.figure(figsize=(8, 6))\n",
    "plt.plot(epochs, loss, 'r', label='Training loss')\n",
    "plt.plot(epochs, val_loss, 'b', label='Validation loss')\n",
    "plt.title('Training and validation loss')\n",
    "plt.legend(loc=0)\n",
    "\n",
    "plt.show()"
   ]
  },
  {
   "cell_type": "code",
   "execution_count": 133,
   "metadata": {},
   "outputs": [
    {
     "name": "stdout",
     "output_type": "stream",
     "text": [
      "47/47 [==============================] - 0s 2ms/step\n",
      "31/31 [==============================] - 0s 3ms/step\n"
     ]
    },
    {
     "data": {
      "text/plain": [
       "((1494, 1), (992, 1))"
      ]
     },
     "execution_count": 133,
     "metadata": {},
     "output_type": "execute_result"
    }
   ],
   "source": [
    "### Prediction and check performance metrics\n",
    "\n",
    "train_predict=model.predict(X_train)\n",
    "test_predict=model.predict(X_test)\n",
    "\n",
    "train_predict.shape, test_predict.shape"
   ]
  },
  {
   "cell_type": "code",
   "execution_count": 134,
   "metadata": {},
   "outputs": [],
   "source": [
    "# Transform back to original form\n",
    "\n",
    "train_predict = scaler.inverse_transform(train_predict)\n",
    "test_predict = scaler.inverse_transform(test_predict)\n",
    "\n",
    "original_ytrain = scaler.inverse_transform(y_train.reshape(-1,1)) \n",
    "original_ytest = scaler.inverse_transform(y_test.reshape(-1,1)) "
   ]
  },
  {
   "cell_type": "code",
   "execution_count": 135,
   "metadata": {},
   "outputs": [
    {
     "name": "stdout",
     "output_type": "stream",
     "text": [
      "Train data RMSE:  2.8298090699836087\n",
      "Train data MSE:  8.007819372561498\n",
      "Train data MAE:  2.0271482842176\n",
      "-------------------------------------------------------------------------------------\n",
      "Test data RMSE:  1.3627884658003244\n",
      "Test data MSE:  1.857192402518402\n",
      "Test data MAE:  0.9976173126066883\n"
     ]
    }
   ],
   "source": [
    "# Evaluation metrics RMSE and MAE\n",
    "\n",
    "print(\"Train data RMSE: \", math.sqrt(mean_squared_error(original_ytrain,train_predict)))\n",
    "print(\"Train data MSE: \", mean_squared_error(original_ytrain,train_predict))\n",
    "print(\"Train data MAE: \", mean_absolute_error(original_ytrain,train_predict))\n",
    "\n",
    "print(\"-------------------------------------------------------------------------------------\")\n",
    "\n",
    "print(\"Test data RMSE: \", math.sqrt(mean_squared_error(original_ytest,test_predict)))\n",
    "print(\"Test data MSE: \", mean_squared_error(original_ytest,test_predict))\n",
    "print(\"Test data MAE: \", mean_absolute_error(original_ytest,test_predict))"
   ]
  },
  {
   "cell_type": "code",
   "execution_count": 136,
   "metadata": {},
   "outputs": [
    {
     "name": "stdout",
     "output_type": "stream",
     "text": [
      "Train data explained variance regression score: 0.9974507915575409\n",
      "Test data explained variance regression score: 0.9939082871616404\n"
     ]
    }
   ],
   "source": [
    "# Variance Regression Score\n",
    "\n",
    "print(\"Train data explained variance regression score:\", explained_variance_score(original_ytrain, train_predict))\n",
    "print(\"Test data explained variance regression score:\", explained_variance_score(original_ytest, test_predict))"
   ]
  },
  {
   "cell_type": "code",
   "execution_count": 137,
   "metadata": {},
   "outputs": [
    {
     "name": "stdout",
     "output_type": "stream",
     "text": [
      "Train data MGD:  0.0003391515998741806\n",
      "Test data MGD:  0.00047319483751225694\n",
      "----------------------------------------------------------------------\n",
      "Train data MPD:  0.04948958531052483\n",
      "Test data MPD:  0.028443013581899487\n"
     ]
    }
   ],
   "source": [
    "# Regression Loss Mean Gamma deviance regression loss (MGD) and Mean Poisson deviance regression loss (MPD)\n",
    "\n",
    "print(\"Train data MGD: \", mean_gamma_deviance(original_ytrain, train_predict))\n",
    "print(\"Test data MGD: \", mean_gamma_deviance(original_ytest, test_predict))\n",
    "\n",
    "print(\"----------------------------------------------------------------------\")\n",
    "\n",
    "print(\"Train data MPD: \", mean_poisson_deviance(original_ytrain, train_predict))\n",
    "print(\"Test data MPD: \", mean_poisson_deviance(original_ytest, test_predict))"
   ]
  },
  {
   "cell_type": "markdown",
   "metadata": {},
   "source": [
    "### <i>Visualization</i>"
   ]
  },
  {
   "cell_type": "code",
   "execution_count": 138,
   "metadata": {},
   "outputs": [
    {
     "data": {
      "image/png": "[encoded data removed]",
      "text/plain": [
       "<Figure size 720x576 with 1 Axes>"
      ]
     },
     "metadata": {
      "needs_background": "light"
     },
     "output_type": "display_data"
    }
   ],
   "source": [
    "# plot of training prediction against actual data\n",
    "\n",
    "plt.figure(figsize=(10, 8))\n",
    "plt.plot(original_ytrain, label='Training Data Actual Price', color='red')\n",
    "plt.plot(train_predict, label='Training Data Predicted Price', color='green')\n",
    " \n",
    "plt.title('AAPL Stock Price Prediction (Training Data)')\n",
    "plt.xlabel('Days')\n",
    "plt.ylabel('Price ($)')\n",
    "plt.legend(loc='best')\n",
    "\n",
    "plt.show();"
   ]
  },
  {
   "cell_type": "code",
   "execution_count": 139,
   "metadata": {},
   "outputs": [
    {
     "data": {
      "image/png": "[encoded data removed]",
      "text/plain": [
       "<Figure size 720x576 with 1 Axes>"
      ]
     },
     "metadata": {
      "needs_background": "light"
     },
     "output_type": "display_data"
    }
   ],
   "source": [
    "# plot of prediction against actual data\n",
    "\n",
    "plt.figure(figsize=(10, 8))\n",
    "plt.plot(original_ytest, label='Actual Price', color='red')\n",
    "plt.plot(test_predict, label='Predicted Price', color='green')\n",
    " \n",
    "plt.title('AAPL Stock Price Prediction')\n",
    "plt.xlabel('Days')\n",
    "plt.ylabel('Price ($)')\n",
    "plt.legend(loc='best')\n",
    "\n",
    "plt.show();"
   ]
  },
  {
   "cell_type": "markdown",
   "metadata": {},
   "source": [
    "###  <i>Conclusion</i>\n",
    "\n",
    "\n",
    "- This univariate LSTM model effectively learned from ten years of Apple stock price data, demonstrating strong training performance.\n",
    "\n",
    "- The model showcased promising generalization to unseen data, indicated by low error metrics (RMSE, MSE, MAE, MGD, and MPD).\n",
    "\n",
    "- While the model's performance is encouraging, further refinements and feature engineering may enhance its predictive accuracy.\n",
    "\n",
    "- Considering domain-specific requirements, this model offers valuable insights and potential for practical stock price forecasting.\n"
   ]
  }
 ],
 "metadata": {
  "kernelspec": {
   "display_name": "Python 3",
   "language": "python",
   "name": "python3"
  },
  "language_info": {
   "codemirror_mode": {
    "name": "ipython",
    "version": 3
   },
   "file_extension": ".py",
   "mimetype": "text/x-python",
   "name": "python",
   "nbconvert_exporter": "python",
   "pygments_lexer": "ipython3",
   "version": "3.10.0"
  }
 },
 "nbformat": 4,
 "nbformat_minor": 2
}
